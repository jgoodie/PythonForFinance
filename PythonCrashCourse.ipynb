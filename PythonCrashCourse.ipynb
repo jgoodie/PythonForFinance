{
 "cells": [
  {
   "cell_type": "code",
   "execution_count": 2,
   "metadata": {
    "collapsed": true
   },
   "outputs": [],
   "source": [
    "import numpy as np\n",
    "import pandas as pd\n",
    "import matplotlib.pyplot as plt\n",
    "%matplotlib inline"
   ]
  },
  {
   "cell_type": "code",
   "execution_count": 27,
   "metadata": {},
   "outputs": [
    {
     "name": "stdout",
     "output_type": "stream",
     "text": [
      "my name is foo bar\n",
      "my name is foo bar\n",
      "my name is foo bar and my age is 42\n",
      "my name is foo bar and my age is 42\n",
      "string\n"
     ]
    }
   ],
   "source": [
    "name = \"foo bar\"\n",
    "number = 42\n",
    "print(\"my name is \" + name)\n",
    "print(\"my name is {}\".format(name))\n",
    "print(\"my name is {} and my age is {}\".format(name, number))\n",
    "print(\"my name is {x} and my age is {y}\".format(x=name, y=number))\n",
    "\n",
    "#Can index strings\n",
    "barf = \"this is my string\"\n",
    "print(barf[11:])"
   ]
  },
  {
   "cell_type": "code",
   "execution_count": 83,
   "metadata": {},
   "outputs": [
    {
     "name": "stdout",
     "output_type": "stream",
     "text": [
      "d\n",
      "['a', 'b']\n",
      "['c', 'd']\n"
     ]
    }
   ],
   "source": [
    "my_list = ['a','b','c','d']\n",
    "print(my_list[-1]) #d\n",
    "print(my_list[0:2]) # a and b\n",
    "print(my_list[2:]) # c to the end"
   ]
  },
  {
   "cell_type": "code",
   "execution_count": 17,
   "metadata": {},
   "outputs": [
    {
     "name": "stdout",
     "output_type": "stream",
     "text": [
      "['a', 'b', 'c']\n",
      "c\n"
     ]
    }
   ],
   "source": [
    "# nested list\n",
    "nested = [1, 2, ['a','b','c']]\n",
    "print(nested[2]) #nested list\n",
    "print(nested[2][2]) # c from nested list"
   ]
  },
  {
   "cell_type": "code",
   "execution_count": 19,
   "metadata": {},
   "outputs": [
    {
     "name": "stdout",
     "output_type": "stream",
     "text": [
      "bar\n"
     ]
    }
   ],
   "source": [
    "# dictionaries\n",
    "d = {'key1':'foo', 'key2':'bar', 'key3':'blatz'}\n",
    "print(d['key2'])"
   ]
  },
  {
   "cell_type": "code",
   "execution_count": 22,
   "metadata": {},
   "outputs": [
    {
     "name": "stdout",
     "output_type": "stream",
     "text": [
      "3\n"
     ]
    }
   ],
   "source": [
    "# tuples are immutable (can't change)\n",
    "t = (1,2,3,4,5) # good for things that can't be changed\n",
    "print(t[2])"
   ]
  },
  {
   "cell_type": "code",
   "execution_count": 26,
   "metadata": {},
   "outputs": [
    {
     "name": "stdout",
     "output_type": "stream",
     "text": [
      "{1, 2, 3, 4, 33, 5, 6}\n",
      "{1, 2, 3, 4, 5, 6}\n"
     ]
    }
   ],
   "source": [
    "# Set\n",
    "s = {1,2,33,3,3,3,4,5,6}\n",
    "print(s) #only prints unique instances\n",
    "# can pass in list and get back a unique\n",
    "l = [1,1,1,1,1,2,2,2,2,3,3,3,3,4,5,6]\n",
    "s2 = set(l)\n",
    "print(s2)"
   ]
  },
  {
   "cell_type": "code",
   "execution_count": 31,
   "metadata": {},
   "outputs": [
    {
     "name": "stdout",
     "output_type": "stream",
     "text": [
      "False\n",
      "True\n",
      "True\n"
     ]
    }
   ],
   "source": [
    "# comparison ops\n",
    "print((1==1) and (1==2))\n",
    "print((1==2) or (1==1))\n",
    "print((1==1) and not (1==3))"
   ]
  },
  {
   "cell_type": "code",
   "execution_count": 32,
   "metadata": {},
   "outputs": [
    {
     "name": "stdout",
     "output_type": "stream",
     "text": [
      "0\n",
      "1\n",
      "4\n",
      "9\n",
      "16\n"
     ]
    }
   ],
   "source": [
    "for item in range(5):\n",
    "    print(item**2)"
   ]
  },
  {
   "cell_type": "code",
   "execution_count": 34,
   "metadata": {},
   "outputs": [
    {
     "name": "stdout",
     "output_type": "stream",
     "text": [
      "0\n",
      "4\n",
      "16\n",
      "36\n",
      "64\n",
      "100\n",
      "144\n",
      "196\n",
      "256\n",
      "324\n"
     ]
    }
   ],
   "source": [
    "for item in range(0,20,2):\n",
    "    print(item**2)"
   ]
  },
  {
   "cell_type": "code",
   "execution_count": 39,
   "metadata": {},
   "outputs": [
    {
     "name": "stdout",
     "output_type": "stream",
     "text": [
      "[1, 4, 9, 16, 25, 36, 49]\n",
      "[1, 4, 9, 16, 25, 36, 49]\n"
     ]
    }
   ],
   "source": [
    "input = [1,2,3,4,5,6,7]\n",
    "output = []\n",
    "for num in input:\n",
    "    output.append(num**2)\n",
    "print(output)\n",
    "# list comprehension in python generates same as above\n",
    "print([num**2 for num in input])"
   ]
  },
  {
   "cell_type": "code",
   "execution_count": 44,
   "metadata": {},
   "outputs": [
    {
     "name": "stdout",
     "output_type": "stream",
     "text": [
      "foobar\n",
      "barfoo\n"
     ]
    }
   ],
   "source": [
    "def my_func(param='barfoo'):\n",
    "    \"\"\"\n",
    "    DOCSTRING\n",
    "    \"\"\"\n",
    "    print(param)\n",
    "\n",
    "x = 'foobar'\n",
    "my_func(x)\n",
    "my_func()"
   ]
  },
  {
   "cell_type": "code",
   "execution_count": 45,
   "metadata": {},
   "outputs": [
    {
     "name": "stdout",
     "output_type": "stream",
     "text": [
      "5\n",
      "25\n"
     ]
    }
   ],
   "source": [
    "def retfunc(parm=1):\n",
    "    \"\"\"\n",
    "    I DONT KNOW\n",
    "    \"\"\"\n",
    "    return(parm*5)\n",
    "    \n",
    "x=retfunc()\n",
    "print(x)\n",
    "y=retfunc(5)\n",
    "print(y)"
   ]
  },
  {
   "cell_type": "code",
   "execution_count": 54,
   "metadata": {},
   "outputs": [
    {
     "name": "stdout",
     "output_type": "stream",
     "text": [
      "8\n",
      "<function <lambda> at 0x107dfb158>\n",
      "[0, 2, 4, 6, 8]\n",
      "[0, 2, 4, 6, 8]\n"
     ]
    }
   ],
   "source": [
    "# lambda expression or anonymous funtion\n",
    "def times_two(var):\n",
    "    return(var*2)\n",
    "print(times_two(4))\n",
    "\n",
    "#lambda func would be\n",
    "print(lambda var: var*2) # more useful with map() and filter()\n",
    "\n",
    "seq = range(5)\n",
    "print(list(map(times_two, seq)))\n",
    "print(list(map(lambda var: var*2, seq)))"
   ]
  },
  {
   "cell_type": "code",
   "execution_count": 59,
   "metadata": {},
   "outputs": [
    {
     "name": "stdout",
     "output_type": "stream",
     "text": [
      "[0, 2, 4]\n",
      "[0, 2, 4]\n"
     ]
    }
   ],
   "source": [
    "def is_even(num):\n",
    "    return num%2==0\n",
    "\n",
    "print(list(filter(is_even, seq)))\n",
    "print(list(filter(lambda num: num%2==0, seq)))"
   ]
  },
  {
   "cell_type": "code",
   "execution_count": 64,
   "metadata": {},
   "outputs": [
    {
     "name": "stdout",
     "output_type": "stream",
     "text": [
      "you should have seen me in the 90s, i could ollie up a curb, you should have seen me in the 80s, i was bumping new edition, dragging acne into hades\n",
      "YOU SHOULD HAVE SEEN ME IN THE 90S, I COULD OLLIE UP A CURB, YOU SHOULD HAVE SEEN ME IN THE 80S, I WAS BUMPING NEW EDITION, DRAGGING ACNE INTO HADES\n",
      "['You', 'should', 'have', 'seen', 'me', 'in', 'the', '90s,', 'I', 'could', 'ollie', 'up', 'a', 'curb,', 'You', 'should', 'have', 'seen', 'me', 'in', 'the', '80s,', 'I', 'was', 'bumping', 'New', 'Edition,', 'dragging', 'acne', 'into', 'Hades']\n",
      "['You should have seen me in the 90s', ' I could ollie up a curb', ' You should have seen me in the 80s', ' I was bumping New Edition', ' dragging acne into Hades']\n"
     ]
    }
   ],
   "source": [
    "st = \"You should have seen me in the 90s, I could ollie up a curb, You should have seen me in the 80s, I was bumping New Edition, dragging acne into Hades\"\n",
    "print(st.lower())\n",
    "print(st.upper())\n",
    "print(st.split())\n",
    "print(st.split(','))"
   ]
  },
  {
   "cell_type": "code",
   "execution_count": 70,
   "metadata": {},
   "outputs": [
    {
     "name": "stdout",
     "output_type": "stream",
     "text": [
      "{'key1': 'foo', 'key2': 'bar', 'key3': 'blatz'}\n",
      "dict_keys(['key1', 'key2', 'key3'])\n",
      "dict_items([('key1', 'foo'), ('key2', 'bar'), ('key3', 'blatz')])\n",
      "dict_values(['foo', 'bar', 'blatz'])\n"
     ]
    }
   ],
   "source": [
    "print(d)\n",
    "print(d.keys())\n",
    "print(d.items())\n",
    "print(d.values())"
   ]
  },
  {
   "cell_type": "code",
   "execution_count": 90,
   "metadata": {},
   "outputs": [
    {
     "data": {
      "text/plain": [
       "['a', 'b', 'c', 'd', 'foo']"
      ]
     },
     "execution_count": 90,
     "metadata": {},
     "output_type": "execute_result"
    }
   ],
   "source": [
    "my_list\n",
    "my_list.append('foo')\n",
    "my_list\n",
    "my_list.pop()\n",
    "my_list.pop(4)\n",
    "my_list"
   ]
  },
  {
   "cell_type": "code",
   "execution_count": 93,
   "metadata": {},
   "outputs": [
    {
     "name": "stdout",
     "output_type": "stream",
     "text": [
      "False\n",
      "True\n"
     ]
    }
   ],
   "source": [
    "print(1 in my_list)\n",
    "print('a' in my_list)"
   ]
  }
 ],
 "metadata": {
  "kernelspec": {
   "display_name": "Python 3",
   "language": "python",
   "name": "python3"
  },
  "language_info": {
   "codemirror_mode": {
    "name": "ipython",
    "version": 3
   },
   "file_extension": ".py",
   "mimetype": "text/x-python",
   "name": "python",
   "nbconvert_exporter": "python",
   "pygments_lexer": "ipython3",
   "version": "3.6.1"
  }
 },
 "nbformat": 4,
 "nbformat_minor": 2
}
