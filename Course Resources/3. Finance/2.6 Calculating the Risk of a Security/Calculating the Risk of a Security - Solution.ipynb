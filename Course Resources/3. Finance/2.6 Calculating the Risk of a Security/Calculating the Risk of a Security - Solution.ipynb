{
 "cells": [
  {
   "cell_type": "markdown",
   "metadata": {},
   "source": [
    "## Calculating the Risk of a Security"
   ]
  },
  {
   "cell_type": "markdown",
   "metadata": {},
   "source": [
    "*Suggested Answers follow (usually there are multiple ways to solve a problem in Python).*"
   ]
  },
  {
   "cell_type": "markdown",
   "metadata": {},
   "source": [
    "Download the data for Microsoft (‘MSFT’) from Yahoo Finance for the period ‘2000-1-1’ until today. <br />\n",
    "Assess the daily and the annual risk of ‘MSFT’. Repeat the exercise for Apple for the same timeframe. "
   ]
  },
  {
   "cell_type": "code",
   "execution_count": 1,
   "metadata": {
    "collapsed": true
   },
   "outputs": [],
   "source": [
    "import numpy as np\n",
    "import pandas as pd\n",
    "from pandas_datareader import data as wb\n",
    "import matplotlib.pyplot as plt"
   ]
  },
  {
   "cell_type": "code",
   "execution_count": 6,
   "metadata": {
    "collapsed": true
   },
   "outputs": [],
   "source": [
    "tickers = ['MSFT', 'AAPL']\n",
    "\n",
    "data = pd.DataFrame()\n",
    "\n",
    "for t in tickers:\n",
    "    data[t] = wb.DataReader(t, data_source='google', start='2002-1-1')['Close']"
   ]
  },
  {
   "cell_type": "code",
   "execution_count": 7,
   "metadata": {
    "collapsed": false
   },
   "outputs": [
    {
     "data": {
      "text/html": [
       "<div>\n",
       "<table border=\"1\" class=\"dataframe\">\n",
       "  <thead>\n",
       "    <tr style=\"text-align: right;\">\n",
       "      <th></th>\n",
       "      <th>MSFT</th>\n",
       "      <th>AAPL</th>\n",
       "    </tr>\n",
       "    <tr>\n",
       "      <th>Date</th>\n",
       "      <th></th>\n",
       "      <th></th>\n",
       "    </tr>\n",
       "  </thead>\n",
       "  <tbody>\n",
       "    <tr>\n",
       "      <th>2002-01-02</th>\n",
       "      <td>NaN</td>\n",
       "      <td>NaN</td>\n",
       "    </tr>\n",
       "    <tr>\n",
       "      <th>2002-01-03</th>\n",
       "      <td>0.032289</td>\n",
       "      <td>0.011976</td>\n",
       "    </tr>\n",
       "    <tr>\n",
       "      <th>2002-01-04</th>\n",
       "      <td>-0.004923</td>\n",
       "      <td>0.005935</td>\n",
       "    </tr>\n",
       "    <tr>\n",
       "      <th>2002-01-07</th>\n",
       "      <td>-0.004947</td>\n",
       "      <td>-0.030032</td>\n",
       "    </tr>\n",
       "    <tr>\n",
       "      <th>2002-01-08</th>\n",
       "      <td>0.011889</td>\n",
       "      <td>-0.012270</td>\n",
       "    </tr>\n",
       "    <tr>\n",
       "      <th>2002-01-09</th>\n",
       "      <td>-0.009558</td>\n",
       "      <td>-0.044171</td>\n",
       "    </tr>\n",
       "    <tr>\n",
       "      <th>2002-01-10</th>\n",
       "      <td>0.008116</td>\n",
       "      <td>-0.019545</td>\n",
       "    </tr>\n",
       "    <tr>\n",
       "      <th>2002-01-11</th>\n",
       "      <td>-0.009864</td>\n",
       "      <td>-0.013245</td>\n",
       "    </tr>\n",
       "    <tr>\n",
       "      <th>2002-01-14</th>\n",
       "      <td>-0.001751</td>\n",
       "      <td>0.006645</td>\n",
       "    </tr>\n",
       "    <tr>\n",
       "      <th>2002-01-15</th>\n",
       "      <td>0.015648</td>\n",
       "      <td>0.026145</td>\n",
       "    </tr>\n",
       "    <tr>\n",
       "      <th>2002-01-16</th>\n",
       "      <td>-0.024448</td>\n",
       "      <td>-0.046213</td>\n",
       "    </tr>\n",
       "    <tr>\n",
       "      <th>2002-01-17</th>\n",
       "      <td>0.028752</td>\n",
       "      <td>0.084192</td>\n",
       "    </tr>\n",
       "    <tr>\n",
       "      <th>2002-01-18</th>\n",
       "      <td>-0.055324</td>\n",
       "      <td>-0.018809</td>\n",
       "    </tr>\n",
       "    <tr>\n",
       "      <th>2002-01-22</th>\n",
       "      <td>-0.025124</td>\n",
       "      <td>-0.012739</td>\n",
       "    </tr>\n",
       "    <tr>\n",
       "      <th>2002-01-23</th>\n",
       "      <td>-0.011233</td>\n",
       "      <td>0.050010</td>\n",
       "    </tr>\n",
       "    <tr>\n",
       "      <th>2002-01-24</th>\n",
       "      <td>0.014330</td>\n",
       "      <td>0.012121</td>\n",
       "    </tr>\n",
       "    <tr>\n",
       "      <th>2002-01-25</th>\n",
       "      <td>-0.013390</td>\n",
       "      <td>0.000000</td>\n",
       "    </tr>\n",
       "    <tr>\n",
       "      <th>2002-01-28</th>\n",
       "      <td>0.000313</td>\n",
       "      <td>0.000000</td>\n",
       "    </tr>\n",
       "    <tr>\n",
       "      <th>2002-01-29</th>\n",
       "      <td>-0.023784</td>\n",
       "      <td>-0.006042</td>\n",
       "    </tr>\n",
       "    <tr>\n",
       "      <th>2002-01-30</th>\n",
       "      <td>0.008309</td>\n",
       "      <td>0.041549</td>\n",
       "    </tr>\n",
       "    <tr>\n",
       "      <th>2002-01-31</th>\n",
       "      <td>0.013907</td>\n",
       "      <td>0.028655</td>\n",
       "    </tr>\n",
       "    <tr>\n",
       "      <th>2002-02-01</th>\n",
       "      <td>-0.016775</td>\n",
       "      <td>-0.017094</td>\n",
       "    </tr>\n",
       "    <tr>\n",
       "      <th>2002-02-04</th>\n",
       "      <td>-0.024884</td>\n",
       "      <td>0.039442</td>\n",
       "    </tr>\n",
       "    <tr>\n",
       "      <th>2002-02-05</th>\n",
       "      <td>0.000654</td>\n",
       "      <td>0.005510</td>\n",
       "    </tr>\n",
       "    <tr>\n",
       "      <th>2002-02-06</th>\n",
       "      <td>-0.012504</td>\n",
       "      <td>-0.033523</td>\n",
       "    </tr>\n",
       "    <tr>\n",
       "      <th>2002-02-07</th>\n",
       "      <td>-0.009983</td>\n",
       "      <td>-0.011429</td>\n",
       "    </tr>\n",
       "    <tr>\n",
       "      <th>2002-02-08</th>\n",
       "      <td>0.013949</td>\n",
       "      <td>-0.011561</td>\n",
       "    </tr>\n",
       "    <tr>\n",
       "      <th>2002-02-11</th>\n",
       "      <td>0.007884</td>\n",
       "      <td>0.034289</td>\n",
       "    </tr>\n",
       "    <tr>\n",
       "      <th>2002-02-12</th>\n",
       "      <td>-0.016164</td>\n",
       "      <td>-0.011300</td>\n",
       "    </tr>\n",
       "    <tr>\n",
       "      <th>2002-02-13</th>\n",
       "      <td>0.027552</td>\n",
       "      <td>0.016902</td>\n",
       "    </tr>\n",
       "    <tr>\n",
       "      <th>...</th>\n",
       "      <td>...</td>\n",
       "      <td>...</td>\n",
       "    </tr>\n",
       "    <tr>\n",
       "      <th>2017-05-23</th>\n",
       "      <td>0.003354</td>\n",
       "      <td>-0.001235</td>\n",
       "    </tr>\n",
       "    <tr>\n",
       "      <th>2017-05-24</th>\n",
       "      <td>0.001310</td>\n",
       "      <td>-0.002995</td>\n",
       "    </tr>\n",
       "    <tr>\n",
       "      <th>2017-05-25</th>\n",
       "      <td>0.012284</td>\n",
       "      <td>0.003450</td>\n",
       "    </tr>\n",
       "    <tr>\n",
       "      <th>2017-05-26</th>\n",
       "      <td>0.004872</td>\n",
       "      <td>-0.001691</td>\n",
       "    </tr>\n",
       "    <tr>\n",
       "      <th>2017-05-30</th>\n",
       "      <td>0.006412</td>\n",
       "      <td>0.000391</td>\n",
       "    </tr>\n",
       "    <tr>\n",
       "      <th>2017-05-31</th>\n",
       "      <td>-0.008128</td>\n",
       "      <td>-0.005939</td>\n",
       "    </tr>\n",
       "    <tr>\n",
       "      <th>2017-06-01</th>\n",
       "      <td>0.003716</td>\n",
       "      <td>0.002746</td>\n",
       "    </tr>\n",
       "    <tr>\n",
       "      <th>2017-06-02</th>\n",
       "      <td>0.023404</td>\n",
       "      <td>0.014710</td>\n",
       "    </tr>\n",
       "    <tr>\n",
       "      <th>2017-06-05</th>\n",
       "      <td>0.007220</td>\n",
       "      <td>-0.009826</td>\n",
       "    </tr>\n",
       "    <tr>\n",
       "      <th>2017-06-06</th>\n",
       "      <td>0.003315</td>\n",
       "      <td>0.003372</td>\n",
       "    </tr>\n",
       "    <tr>\n",
       "      <th>2017-06-07</th>\n",
       "      <td>-0.001794</td>\n",
       "      <td>0.005939</td>\n",
       "    </tr>\n",
       "    <tr>\n",
       "      <th>2017-06-08</th>\n",
       "      <td>-0.006097</td>\n",
       "      <td>-0.002449</td>\n",
       "    </tr>\n",
       "    <tr>\n",
       "      <th>2017-06-09</th>\n",
       "      <td>-0.022915</td>\n",
       "      <td>-0.039549</td>\n",
       "    </tr>\n",
       "    <tr>\n",
       "      <th>2017-06-12</th>\n",
       "      <td>-0.007709</td>\n",
       "      <td>-0.024186</td>\n",
       "    </tr>\n",
       "    <tr>\n",
       "      <th>2017-06-13</th>\n",
       "      <td>0.012391</td>\n",
       "      <td>0.008013</td>\n",
       "    </tr>\n",
       "    <tr>\n",
       "      <th>2017-06-14</th>\n",
       "      <td>-0.005393</td>\n",
       "      <td>-0.009803</td>\n",
       "    </tr>\n",
       "    <tr>\n",
       "      <th>2017-06-15</th>\n",
       "      <td>-0.005279</td>\n",
       "      <td>-0.006011</td>\n",
       "    </tr>\n",
       "    <tr>\n",
       "      <th>2017-06-16</th>\n",
       "      <td>0.001430</td>\n",
       "      <td>-0.014099</td>\n",
       "    </tr>\n",
       "    <tr>\n",
       "      <th>2017-06-19</th>\n",
       "      <td>0.012352</td>\n",
       "      <td>0.028206</td>\n",
       "    </tr>\n",
       "    <tr>\n",
       "      <th>2017-06-20</th>\n",
       "      <td>-0.013639</td>\n",
       "      <td>-0.009130</td>\n",
       "    </tr>\n",
       "    <tr>\n",
       "      <th>2017-06-21</th>\n",
       "      <td>0.005136</td>\n",
       "      <td>0.005913</td>\n",
       "    </tr>\n",
       "    <tr>\n",
       "      <th>2017-06-22</th>\n",
       "      <td>-0.000142</td>\n",
       "      <td>-0.001647</td>\n",
       "    </tr>\n",
       "    <tr>\n",
       "      <th>2017-06-23</th>\n",
       "      <td>0.013431</td>\n",
       "      <td>0.004453</td>\n",
       "    </tr>\n",
       "    <tr>\n",
       "      <th>2017-06-26</th>\n",
       "      <td>-0.009595</td>\n",
       "      <td>-0.003150</td>\n",
       "    </tr>\n",
       "    <tr>\n",
       "      <th>2017-06-27</th>\n",
       "      <td>-0.018893</td>\n",
       "      <td>-0.014436</td>\n",
       "    </tr>\n",
       "    <tr>\n",
       "      <th>2017-06-28</th>\n",
       "      <td>0.008489</td>\n",
       "      <td>0.014505</td>\n",
       "    </tr>\n",
       "    <tr>\n",
       "      <th>2017-06-29</th>\n",
       "      <td>-0.018946</td>\n",
       "      <td>-0.014853</td>\n",
       "    </tr>\n",
       "    <tr>\n",
       "      <th>2017-06-30</th>\n",
       "      <td>0.006404</td>\n",
       "      <td>0.002364</td>\n",
       "    </tr>\n",
       "    <tr>\n",
       "      <th>2017-07-03</th>\n",
       "      <td>-0.011087</td>\n",
       "      <td>-0.003617</td>\n",
       "    </tr>\n",
       "    <tr>\n",
       "      <th>2017-07-05</th>\n",
       "      <td>0.013261</td>\n",
       "      <td>0.004103</td>\n",
       "    </tr>\n",
       "  </tbody>\n",
       "</table>\n",
       "<p>3903 rows × 2 columns</p>\n",
       "</div>"
      ],
      "text/plain": [
       "                MSFT      AAPL\n",
       "Date                          \n",
       "2002-01-02       NaN       NaN\n",
       "2002-01-03  0.032289  0.011976\n",
       "2002-01-04 -0.004923  0.005935\n",
       "2002-01-07 -0.004947 -0.030032\n",
       "2002-01-08  0.011889 -0.012270\n",
       "2002-01-09 -0.009558 -0.044171\n",
       "2002-01-10  0.008116 -0.019545\n",
       "2002-01-11 -0.009864 -0.013245\n",
       "2002-01-14 -0.001751  0.006645\n",
       "2002-01-15  0.015648  0.026145\n",
       "2002-01-16 -0.024448 -0.046213\n",
       "2002-01-17  0.028752  0.084192\n",
       "2002-01-18 -0.055324 -0.018809\n",
       "2002-01-22 -0.025124 -0.012739\n",
       "2002-01-23 -0.011233  0.050010\n",
       "2002-01-24  0.014330  0.012121\n",
       "2002-01-25 -0.013390  0.000000\n",
       "2002-01-28  0.000313  0.000000\n",
       "2002-01-29 -0.023784 -0.006042\n",
       "2002-01-30  0.008309  0.041549\n",
       "2002-01-31  0.013907  0.028655\n",
       "2002-02-01 -0.016775 -0.017094\n",
       "2002-02-04 -0.024884  0.039442\n",
       "2002-02-05  0.000654  0.005510\n",
       "2002-02-06 -0.012504 -0.033523\n",
       "2002-02-07 -0.009983 -0.011429\n",
       "2002-02-08  0.013949 -0.011561\n",
       "2002-02-11  0.007884  0.034289\n",
       "2002-02-12 -0.016164 -0.011300\n",
       "2002-02-13  0.027552  0.016902\n",
       "...              ...       ...\n",
       "2017-05-23  0.003354 -0.001235\n",
       "2017-05-24  0.001310 -0.002995\n",
       "2017-05-25  0.012284  0.003450\n",
       "2017-05-26  0.004872 -0.001691\n",
       "2017-05-30  0.006412  0.000391\n",
       "2017-05-31 -0.008128 -0.005939\n",
       "2017-06-01  0.003716  0.002746\n",
       "2017-06-02  0.023404  0.014710\n",
       "2017-06-05  0.007220 -0.009826\n",
       "2017-06-06  0.003315  0.003372\n",
       "2017-06-07 -0.001794  0.005939\n",
       "2017-06-08 -0.006097 -0.002449\n",
       "2017-06-09 -0.022915 -0.039549\n",
       "2017-06-12 -0.007709 -0.024186\n",
       "2017-06-13  0.012391  0.008013\n",
       "2017-06-14 -0.005393 -0.009803\n",
       "2017-06-15 -0.005279 -0.006011\n",
       "2017-06-16  0.001430 -0.014099\n",
       "2017-06-19  0.012352  0.028206\n",
       "2017-06-20 -0.013639 -0.009130\n",
       "2017-06-21  0.005136  0.005913\n",
       "2017-06-22 -0.000142 -0.001647\n",
       "2017-06-23  0.013431  0.004453\n",
       "2017-06-26 -0.009595 -0.003150\n",
       "2017-06-27 -0.018893 -0.014436\n",
       "2017-06-28  0.008489  0.014505\n",
       "2017-06-29 -0.018946 -0.014853\n",
       "2017-06-30  0.006404  0.002364\n",
       "2017-07-03 -0.011087 -0.003617\n",
       "2017-07-05  0.013261  0.004103\n",
       "\n",
       "[3903 rows x 2 columns]"
      ]
     },
     "execution_count": 7,
     "metadata": {},
     "output_type": "execute_result"
    }
   ],
   "source": [
    "returns = np.log(data / data.shift(1))\n",
    "returns"
   ]
  },
  {
   "cell_type": "markdown",
   "metadata": {},
   "source": [
    "### MSFT"
   ]
  },
  {
   "cell_type": "markdown",
   "metadata": {},
   "source": [
    "Daily risk:"
   ]
  },
  {
   "cell_type": "code",
   "execution_count": 8,
   "metadata": {
    "collapsed": false
   },
   "outputs": [
    {
     "data": {
      "text/plain": [
       "0.017333461935536087"
      ]
     },
     "execution_count": 8,
     "metadata": {},
     "output_type": "execute_result"
    }
   ],
   "source": [
    "returns['MSFT'].std()"
   ]
  },
  {
   "cell_type": "markdown",
   "metadata": {},
   "source": [
    "Annual risk:"
   ]
  },
  {
   "cell_type": "code",
   "execution_count": 9,
   "metadata": {
    "collapsed": false
   },
   "outputs": [
    {
     "data": {
      "text/plain": [
       "0.27406609726062364"
      ]
     },
     "execution_count": 9,
     "metadata": {},
     "output_type": "execute_result"
    }
   ],
   "source": [
    "returns['MSFT'].std() * 250 ** 0.5"
   ]
  },
  {
   "cell_type": "markdown",
   "metadata": {},
   "source": [
    "### Apple"
   ]
  },
  {
   "cell_type": "markdown",
   "metadata": {},
   "source": [
    "Daily risk:"
   ]
  },
  {
   "cell_type": "code",
   "execution_count": 10,
   "metadata": {
    "collapsed": false
   },
   "outputs": [
    {
     "data": {
      "text/plain": [
       "0.022295415528595375"
      ]
     },
     "execution_count": 10,
     "metadata": {},
     "output_type": "execute_result"
    }
   ],
   "source": [
    "returns['AAPL'].std()"
   ]
  },
  {
   "cell_type": "markdown",
   "metadata": {},
   "source": [
    "Annual risk:"
   ]
  },
  {
   "cell_type": "code",
   "execution_count": 11,
   "metadata": {
    "collapsed": false
   },
   "outputs": [
    {
     "data": {
      "text/plain": [
       "0.35252147225124164"
      ]
     },
     "execution_count": 11,
     "metadata": {},
     "output_type": "execute_result"
    }
   ],
   "source": [
    "returns['AAPL'].std() * 250 ** 0.5"
   ]
  },
  {
   "cell_type": "markdown",
   "metadata": {},
   "source": [
    "******"
   ]
  },
  {
   "cell_type": "markdown",
   "metadata": {},
   "source": [
    "Store the volatilities of the two stocks in an array called \"vols\"."
   ]
  },
  {
   "cell_type": "code",
   "execution_count": 12,
   "metadata": {
    "collapsed": false
   },
   "outputs": [
    {
     "data": {
      "text/plain": [
       "MSFT    0.274066\n",
       "AAPL    0.352521\n",
       "dtype: float64"
      ]
     },
     "execution_count": 12,
     "metadata": {},
     "output_type": "execute_result"
    }
   ],
   "source": [
    "vols = returns[['MSFT', 'AAPL']].std() * 250 ** 0.5\n",
    "vols"
   ]
  },
  {
   "cell_type": "markdown",
   "metadata": {},
   "source": [
    "How are the two risk values different?"
   ]
  }
 ],
 "metadata": {
  "kernelspec": {
   "display_name": "Python 2",
   "language": "python",
   "name": "python2"
  },
  "language_info": {
   "codemirror_mode": {
    "name": "ipython",
    "version": 2
   },
   "file_extension": ".py",
   "mimetype": "text/x-python",
   "name": "python",
   "nbconvert_exporter": "python",
   "pygments_lexer": "ipython2",
   "version": "2.7.13"
  }
 },
 "nbformat": 4,
 "nbformat_minor": 2
}
