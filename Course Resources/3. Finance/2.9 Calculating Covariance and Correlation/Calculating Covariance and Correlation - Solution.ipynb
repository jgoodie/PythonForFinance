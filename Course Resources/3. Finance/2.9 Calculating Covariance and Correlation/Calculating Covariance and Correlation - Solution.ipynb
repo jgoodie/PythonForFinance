{
 "cells": [
  {
   "cell_type": "markdown",
   "metadata": {},
   "source": [
    "## Calculating Covariance and Correlation"
   ]
  },
  {
   "cell_type": "markdown",
   "metadata": {},
   "source": [
    "*Suggested Answers follow (usually there are multiple ways to solve a problem in Python).*"
   ]
  },
  {
   "cell_type": "markdown",
   "metadata": {},
   "source": [
    "Consider a portfolio composed of *Walmart* and *Facebook*. Do you expect the returns of these companies to show high or low covariance? Or, could you guess what the correlation would be? Will it be closer to 0 or closer to 1? "
   ]
  },
  {
   "cell_type": "markdown",
   "metadata": {},
   "source": [
    "Begin by extracting data for Walmart and Facebook from the 1st of January 2014 until today."
   ]
  },
  {
   "cell_type": "code",
   "execution_count": 1,
   "metadata": {
    "collapsed": true
   },
   "outputs": [],
   "source": [
    "import numpy as np\n",
    "import pandas as pd\n",
    "from pandas_datareader import data as wb"
   ]
  },
  {
   "cell_type": "code",
   "execution_count": 2,
   "metadata": {
    "collapsed": true
   },
   "outputs": [],
   "source": [
    "tickers = ['WMT', 'FB']\n",
    "sec_data = pd.DataFrame()\n",
    "for t in tickers:\n",
    "    sec_data[t] = wb.DataReader(t, data_source='google', start='2014-1-1')['Close']"
   ]
  },
  {
   "cell_type": "code",
   "execution_count": 3,
   "metadata": {
    "collapsed": false
   },
   "outputs": [
    {
     "data": {
      "text/html": [
       "<div>\n",
       "<table border=\"1\" class=\"dataframe\">\n",
       "  <thead>\n",
       "    <tr style=\"text-align: right;\">\n",
       "      <th></th>\n",
       "      <th>WMT</th>\n",
       "      <th>FB</th>\n",
       "    </tr>\n",
       "    <tr>\n",
       "      <th>Date</th>\n",
       "      <th></th>\n",
       "      <th></th>\n",
       "    </tr>\n",
       "  </thead>\n",
       "  <tbody>\n",
       "    <tr>\n",
       "      <th>2014-01-02</th>\n",
       "      <td>78.91</td>\n",
       "      <td>54.71</td>\n",
       "    </tr>\n",
       "    <tr>\n",
       "      <th>2014-01-03</th>\n",
       "      <td>78.65</td>\n",
       "      <td>54.56</td>\n",
       "    </tr>\n",
       "    <tr>\n",
       "      <th>2014-01-06</th>\n",
       "      <td>78.21</td>\n",
       "      <td>57.20</td>\n",
       "    </tr>\n",
       "    <tr>\n",
       "      <th>2014-01-07</th>\n",
       "      <td>78.45</td>\n",
       "      <td>57.92</td>\n",
       "    </tr>\n",
       "    <tr>\n",
       "      <th>2014-01-08</th>\n",
       "      <td>77.83</td>\n",
       "      <td>58.23</td>\n",
       "    </tr>\n",
       "  </tbody>\n",
       "</table>\n",
       "</div>"
      ],
      "text/plain": [
       "              WMT     FB\n",
       "Date                    \n",
       "2014-01-02  78.91  54.71\n",
       "2014-01-03  78.65  54.56\n",
       "2014-01-06  78.21  57.20\n",
       "2014-01-07  78.45  57.92\n",
       "2014-01-08  77.83  58.23"
      ]
     },
     "execution_count": 3,
     "metadata": {},
     "output_type": "execute_result"
    }
   ],
   "source": [
    "sec_data.head()"
   ]
  },
  {
   "cell_type": "code",
   "execution_count": 4,
   "metadata": {
    "collapsed": false
   },
   "outputs": [
    {
     "data": {
      "text/html": [
       "<div>\n",
       "<table border=\"1\" class=\"dataframe\">\n",
       "  <thead>\n",
       "    <tr style=\"text-align: right;\">\n",
       "      <th></th>\n",
       "      <th>WMT</th>\n",
       "      <th>FB</th>\n",
       "    </tr>\n",
       "    <tr>\n",
       "      <th>Date</th>\n",
       "      <th></th>\n",
       "      <th></th>\n",
       "    </tr>\n",
       "  </thead>\n",
       "  <tbody>\n",
       "    <tr>\n",
       "      <th>2014-01-02</th>\n",
       "      <td>NaN</td>\n",
       "      <td>NaN</td>\n",
       "    </tr>\n",
       "    <tr>\n",
       "      <th>2014-01-03</th>\n",
       "      <td>-0.003300</td>\n",
       "      <td>-0.002745</td>\n",
       "    </tr>\n",
       "    <tr>\n",
       "      <th>2014-01-06</th>\n",
       "      <td>-0.005610</td>\n",
       "      <td>0.047253</td>\n",
       "    </tr>\n",
       "    <tr>\n",
       "      <th>2014-01-07</th>\n",
       "      <td>0.003064</td>\n",
       "      <td>0.012509</td>\n",
       "    </tr>\n",
       "    <tr>\n",
       "      <th>2014-01-08</th>\n",
       "      <td>-0.007935</td>\n",
       "      <td>0.005338</td>\n",
       "    </tr>\n",
       "    <tr>\n",
       "      <th>2014-01-09</th>\n",
       "      <td>0.003335</td>\n",
       "      <td>-0.017497</td>\n",
       "    </tr>\n",
       "    <tr>\n",
       "      <th>2014-01-10</th>\n",
       "      <td>-0.000640</td>\n",
       "      <td>0.012505</td>\n",
       "    </tr>\n",
       "    <tr>\n",
       "      <th>2014-01-13</th>\n",
       "      <td>-0.007073</td>\n",
       "      <td>-0.035665</td>\n",
       "    </tr>\n",
       "    <tr>\n",
       "      <th>2014-01-14</th>\n",
       "      <td>0.006047</td>\n",
       "      <td>0.032207</td>\n",
       "    </tr>\n",
       "    <tr>\n",
       "      <th>2014-01-15</th>\n",
       "      <td>-0.003856</td>\n",
       "      <td>-0.002428</td>\n",
       "    </tr>\n",
       "    <tr>\n",
       "      <th>2014-01-16</th>\n",
       "      <td>-0.011657</td>\n",
       "      <td>-0.007144</td>\n",
       "    </tr>\n",
       "    <tr>\n",
       "      <th>2014-01-17</th>\n",
       "      <td>-0.007453</td>\n",
       "      <td>-0.015685</td>\n",
       "    </tr>\n",
       "    <tr>\n",
       "      <th>2014-01-21</th>\n",
       "      <td>-0.004604</td>\n",
       "      <td>0.038503</td>\n",
       "    </tr>\n",
       "    <tr>\n",
       "      <th>2014-01-22</th>\n",
       "      <td>-0.006482</td>\n",
       "      <td>-0.017239</td>\n",
       "    </tr>\n",
       "    <tr>\n",
       "      <th>2014-01-23</th>\n",
       "      <td>-0.005189</td>\n",
       "      <td>-0.015420</td>\n",
       "    </tr>\n",
       "    <tr>\n",
       "      <th>2014-01-24</th>\n",
       "      <td>-0.007230</td>\n",
       "      <td>-0.039256</td>\n",
       "    </tr>\n",
       "    <tr>\n",
       "      <th>2014-01-27</th>\n",
       "      <td>-0.003635</td>\n",
       "      <td>-0.016667</td>\n",
       "    </tr>\n",
       "    <tr>\n",
       "      <th>2014-01-28</th>\n",
       "      <td>0.006988</td>\n",
       "      <td>0.029260</td>\n",
       "    </tr>\n",
       "    <tr>\n",
       "      <th>2014-01-29</th>\n",
       "      <td>-0.007663</td>\n",
       "      <td>-0.029633</td>\n",
       "    </tr>\n",
       "    <tr>\n",
       "      <th>2014-01-30</th>\n",
       "      <td>0.008734</td>\n",
       "      <td>0.131942</td>\n",
       "    </tr>\n",
       "    <tr>\n",
       "      <th>2014-01-31</th>\n",
       "      <td>-0.000937</td>\n",
       "      <td>0.024101</td>\n",
       "    </tr>\n",
       "    <tr>\n",
       "      <th>2014-02-03</th>\n",
       "      <td>-0.027421</td>\n",
       "      <td>-0.017574</td>\n",
       "    </tr>\n",
       "    <tr>\n",
       "      <th>2014-02-04</th>\n",
       "      <td>0.000963</td>\n",
       "      <td>0.020447</td>\n",
       "    </tr>\n",
       "    <tr>\n",
       "      <th>2014-02-05</th>\n",
       "      <td>0.001923</td>\n",
       "      <td>-0.008964</td>\n",
       "    </tr>\n",
       "    <tr>\n",
       "      <th>2014-02-06</th>\n",
       "      <td>-0.000686</td>\n",
       "      <td>-0.000483</td>\n",
       "    </tr>\n",
       "    <tr>\n",
       "      <th>2014-02-07</th>\n",
       "      <td>0.012690</td>\n",
       "      <td>0.034159</td>\n",
       "    </tr>\n",
       "    <tr>\n",
       "      <th>2014-02-10</th>\n",
       "      <td>0.000136</td>\n",
       "      <td>-0.012044</td>\n",
       "    </tr>\n",
       "    <tr>\n",
       "      <th>2014-02-11</th>\n",
       "      <td>0.014001</td>\n",
       "      <td>0.020250</td>\n",
       "    </tr>\n",
       "    <tr>\n",
       "      <th>2014-02-12</th>\n",
       "      <td>0.002137</td>\n",
       "      <td>-0.006187</td>\n",
       "    </tr>\n",
       "    <tr>\n",
       "      <th>2014-02-13</th>\n",
       "      <td>0.005322</td>\n",
       "      <td>0.043716</td>\n",
       "    </tr>\n",
       "    <tr>\n",
       "      <th>...</th>\n",
       "      <td>...</td>\n",
       "      <td>...</td>\n",
       "    </tr>\n",
       "    <tr>\n",
       "      <th>2017-05-23</th>\n",
       "      <td>-0.000764</td>\n",
       "      <td>-0.001147</td>\n",
       "    </tr>\n",
       "    <tr>\n",
       "      <th>2017-05-24</th>\n",
       "      <td>-0.004341</td>\n",
       "      <td>0.013217</td>\n",
       "    </tr>\n",
       "    <tr>\n",
       "      <th>2017-05-25</th>\n",
       "      <td>0.002045</td>\n",
       "      <td>0.012715</td>\n",
       "    </tr>\n",
       "    <tr>\n",
       "      <th>2017-05-26</th>\n",
       "      <td>-0.002301</td>\n",
       "      <td>0.001118</td>\n",
       "    </tr>\n",
       "    <tr>\n",
       "      <th>2017-05-30</th>\n",
       "      <td>0.000256</td>\n",
       "      <td>0.001642</td>\n",
       "    </tr>\n",
       "    <tr>\n",
       "      <th>2017-05-31</th>\n",
       "      <td>0.005742</td>\n",
       "      <td>-0.006056</td>\n",
       "    </tr>\n",
       "    <tr>\n",
       "      <th>2017-06-01</th>\n",
       "      <td>0.015277</td>\n",
       "      <td>0.000462</td>\n",
       "    </tr>\n",
       "    <tr>\n",
       "      <th>2017-06-02</th>\n",
       "      <td>-0.002383</td>\n",
       "      <td>0.013633</td>\n",
       "    </tr>\n",
       "    <tr>\n",
       "      <th>2017-06-05</th>\n",
       "      <td>0.008006</td>\n",
       "      <td>0.000130</td>\n",
       "    </tr>\n",
       "    <tr>\n",
       "      <th>2017-06-06</th>\n",
       "      <td>-0.016710</td>\n",
       "      <td>-0.005352</td>\n",
       "    </tr>\n",
       "    <tr>\n",
       "      <th>2017-06-07</th>\n",
       "      <td>0.002783</td>\n",
       "      <td>0.002027</td>\n",
       "    </tr>\n",
       "    <tr>\n",
       "      <th>2017-06-08</th>\n",
       "      <td>-0.002783</td>\n",
       "      <td>0.010330</td>\n",
       "    </tr>\n",
       "    <tr>\n",
       "      <th>2017-06-09</th>\n",
       "      <td>0.006189</td>\n",
       "      <td>-0.033587</td>\n",
       "    </tr>\n",
       "    <tr>\n",
       "      <th>2017-06-12</th>\n",
       "      <td>-0.002269</td>\n",
       "      <td>-0.007784</td>\n",
       "    </tr>\n",
       "    <tr>\n",
       "      <th>2017-06-13</th>\n",
       "      <td>0.003527</td>\n",
       "      <td>0.014978</td>\n",
       "    </tr>\n",
       "    <tr>\n",
       "      <th>2017-06-14</th>\n",
       "      <td>0.004767</td>\n",
       "      <td>-0.002858</td>\n",
       "    </tr>\n",
       "    <tr>\n",
       "      <th>2017-06-15</th>\n",
       "      <td>-0.012468</td>\n",
       "      <td>-0.003000</td>\n",
       "    </tr>\n",
       "    <tr>\n",
       "      <th>2017-06-16</th>\n",
       "      <td>-0.047625</td>\n",
       "      <td>0.005592</td>\n",
       "    </tr>\n",
       "    <tr>\n",
       "      <th>2017-06-19</th>\n",
       "      <td>0.003450</td>\n",
       "      <td>0.014695</td>\n",
       "    </tr>\n",
       "    <tr>\n",
       "      <th>2017-06-20</th>\n",
       "      <td>0.000530</td>\n",
       "      <td>-0.004064</td>\n",
       "    </tr>\n",
       "    <tr>\n",
       "      <th>2017-06-21</th>\n",
       "      <td>0.009224</td>\n",
       "      <td>0.010844</td>\n",
       "    </tr>\n",
       "    <tr>\n",
       "      <th>2017-06-22</th>\n",
       "      <td>-0.009489</td>\n",
       "      <td>-0.003319</td>\n",
       "    </tr>\n",
       "    <tr>\n",
       "      <th>2017-06-23</th>\n",
       "      <td>-0.009045</td>\n",
       "      <td>0.010828</td>\n",
       "    </tr>\n",
       "    <tr>\n",
       "      <th>2017-06-26</th>\n",
       "      <td>0.008780</td>\n",
       "      <td>-0.009590</td>\n",
       "    </tr>\n",
       "    <tr>\n",
       "      <th>2017-06-27</th>\n",
       "      <td>0.006732</td>\n",
       "      <td>-0.019792</td>\n",
       "    </tr>\n",
       "    <tr>\n",
       "      <th>2017-06-28</th>\n",
       "      <td>0.006557</td>\n",
       "      <td>0.017511</td>\n",
       "    </tr>\n",
       "    <tr>\n",
       "      <th>2017-06-29</th>\n",
       "      <td>-0.007610</td>\n",
       "      <td>-0.014461</td>\n",
       "    </tr>\n",
       "    <tr>\n",
       "      <th>2017-06-30</th>\n",
       "      <td>-0.003298</td>\n",
       "      <td>-0.000397</td>\n",
       "    </tr>\n",
       "    <tr>\n",
       "      <th>2017-07-03</th>\n",
       "      <td>-0.004237</td>\n",
       "      <td>-0.017034</td>\n",
       "    </tr>\n",
       "    <tr>\n",
       "      <th>2017-07-05</th>\n",
       "      <td>-0.000531</td>\n",
       "      <td>0.012786</td>\n",
       "    </tr>\n",
       "  </tbody>\n",
       "</table>\n",
       "<p>883 rows × 2 columns</p>\n",
       "</div>"
      ],
      "text/plain": [
       "                 WMT        FB\n",
       "Date                          \n",
       "2014-01-02       NaN       NaN\n",
       "2014-01-03 -0.003300 -0.002745\n",
       "2014-01-06 -0.005610  0.047253\n",
       "2014-01-07  0.003064  0.012509\n",
       "2014-01-08 -0.007935  0.005338\n",
       "2014-01-09  0.003335 -0.017497\n",
       "2014-01-10 -0.000640  0.012505\n",
       "2014-01-13 -0.007073 -0.035665\n",
       "2014-01-14  0.006047  0.032207\n",
       "2014-01-15 -0.003856 -0.002428\n",
       "2014-01-16 -0.011657 -0.007144\n",
       "2014-01-17 -0.007453 -0.015685\n",
       "2014-01-21 -0.004604  0.038503\n",
       "2014-01-22 -0.006482 -0.017239\n",
       "2014-01-23 -0.005189 -0.015420\n",
       "2014-01-24 -0.007230 -0.039256\n",
       "2014-01-27 -0.003635 -0.016667\n",
       "2014-01-28  0.006988  0.029260\n",
       "2014-01-29 -0.007663 -0.029633\n",
       "2014-01-30  0.008734  0.131942\n",
       "2014-01-31 -0.000937  0.024101\n",
       "2014-02-03 -0.027421 -0.017574\n",
       "2014-02-04  0.000963  0.020447\n",
       "2014-02-05  0.001923 -0.008964\n",
       "2014-02-06 -0.000686 -0.000483\n",
       "2014-02-07  0.012690  0.034159\n",
       "2014-02-10  0.000136 -0.012044\n",
       "2014-02-11  0.014001  0.020250\n",
       "2014-02-12  0.002137 -0.006187\n",
       "2014-02-13  0.005322  0.043716\n",
       "...              ...       ...\n",
       "2017-05-23 -0.000764 -0.001147\n",
       "2017-05-24 -0.004341  0.013217\n",
       "2017-05-25  0.002045  0.012715\n",
       "2017-05-26 -0.002301  0.001118\n",
       "2017-05-30  0.000256  0.001642\n",
       "2017-05-31  0.005742 -0.006056\n",
       "2017-06-01  0.015277  0.000462\n",
       "2017-06-02 -0.002383  0.013633\n",
       "2017-06-05  0.008006  0.000130\n",
       "2017-06-06 -0.016710 -0.005352\n",
       "2017-06-07  0.002783  0.002027\n",
       "2017-06-08 -0.002783  0.010330\n",
       "2017-06-09  0.006189 -0.033587\n",
       "2017-06-12 -0.002269 -0.007784\n",
       "2017-06-13  0.003527  0.014978\n",
       "2017-06-14  0.004767 -0.002858\n",
       "2017-06-15 -0.012468 -0.003000\n",
       "2017-06-16 -0.047625  0.005592\n",
       "2017-06-19  0.003450  0.014695\n",
       "2017-06-20  0.000530 -0.004064\n",
       "2017-06-21  0.009224  0.010844\n",
       "2017-06-22 -0.009489 -0.003319\n",
       "2017-06-23 -0.009045  0.010828\n",
       "2017-06-26  0.008780 -0.009590\n",
       "2017-06-27  0.006732 -0.019792\n",
       "2017-06-28  0.006557  0.017511\n",
       "2017-06-29 -0.007610 -0.014461\n",
       "2017-06-30 -0.003298 -0.000397\n",
       "2017-07-03 -0.004237 -0.017034\n",
       "2017-07-05 -0.000531  0.012786\n",
       "\n",
       "[883 rows x 2 columns]"
      ]
     },
     "execution_count": 4,
     "metadata": {},
     "output_type": "execute_result"
    }
   ],
   "source": [
    "returns = np.log(sec_data / sec_data.shift(1))\n",
    "returns"
   ]
  },
  {
   "cell_type": "markdown",
   "metadata": {},
   "source": [
    "Repeat the process we went through in the lecture for these two stocks. How would you explain the difference between their means and their standard deviations?"
   ]
  },
  {
   "cell_type": "code",
   "execution_count": 6,
   "metadata": {
    "collapsed": false
   },
   "outputs": [
    {
     "data": {
      "text/plain": [
       "WMT   -0.013198\n",
       "FB     0.286523\n",
       "dtype: float64"
      ]
     },
     "execution_count": 6,
     "metadata": {},
     "output_type": "execute_result"
    }
   ],
   "source": [
    "returns[['WMT', 'FB']].mean() * 250"
   ]
  },
  {
   "cell_type": "code",
   "execution_count": 8,
   "metadata": {
    "collapsed": false
   },
   "outputs": [
    {
     "data": {
      "text/plain": [
       "WMT    0.176440\n",
       "FB     0.281504\n",
       "dtype: float64"
      ]
     },
     "execution_count": 8,
     "metadata": {},
     "output_type": "execute_result"
    }
   ],
   "source": [
    "returns[['WMT', 'FB']].std() * 250 ** 0.5"
   ]
  },
  {
   "cell_type": "markdown",
   "metadata": {},
   "source": [
    "***"
   ]
  },
  {
   "cell_type": "markdown",
   "metadata": {},
   "source": [
    "## Covariance and Correlation"
   ]
  },
  {
   "cell_type": "markdown",
   "metadata": {},
   "source": [
    "\n",
    "\\begin{eqnarray*}\n",
    "Covariance Matrix: \\  \\   \n",
    "\\Sigma = \\begin{bmatrix}\n",
    "        \\sigma_{1}^2 \\ \\sigma_{12} \\ \\dots \\ \\sigma_{1I} \\\\\n",
    "        \\sigma_{21} \\ \\sigma_{2}^2 \\ \\dots \\ \\sigma_{2I} \\\\\n",
    "        \\vdots \\ \\vdots \\ \\ddots \\ \\vdots \\\\\n",
    "        \\sigma_{I1} \\ \\sigma_{I2} \\ \\dots \\ \\sigma_{I}^2\n",
    "    \\end{bmatrix}\n",
    "\\end{eqnarray*}"
   ]
  },
  {
   "cell_type": "markdown",
   "metadata": {},
   "source": [
    "***"
   ]
  },
  {
   "cell_type": "code",
   "execution_count": 9,
   "metadata": {
    "collapsed": false
   },
   "outputs": [
    {
     "data": {
      "text/html": [
       "<div>\n",
       "<table border=\"1\" class=\"dataframe\">\n",
       "  <thead>\n",
       "    <tr style=\"text-align: right;\">\n",
       "      <th></th>\n",
       "      <th>WMT</th>\n",
       "      <th>FB</th>\n",
       "    </tr>\n",
       "  </thead>\n",
       "  <tbody>\n",
       "    <tr>\n",
       "      <th>WMT</th>\n",
       "      <td>0.000125</td>\n",
       "      <td>0.000033</td>\n",
       "    </tr>\n",
       "    <tr>\n",
       "      <th>FB</th>\n",
       "      <td>0.000033</td>\n",
       "      <td>0.000317</td>\n",
       "    </tr>\n",
       "  </tbody>\n",
       "</table>\n",
       "</div>"
      ],
      "text/plain": [
       "          WMT        FB\n",
       "WMT  0.000125  0.000033\n",
       "FB   0.000033  0.000317"
      ]
     },
     "execution_count": 9,
     "metadata": {},
     "output_type": "execute_result"
    }
   ],
   "source": [
    "cov_matrix = returns.cov()\n",
    "cov_matrix"
   ]
  },
  {
   "cell_type": "code",
   "execution_count": 10,
   "metadata": {
    "collapsed": false
   },
   "outputs": [
    {
     "data": {
      "text/html": [
       "<div>\n",
       "<table border=\"1\" class=\"dataframe\">\n",
       "  <thead>\n",
       "    <tr style=\"text-align: right;\">\n",
       "      <th></th>\n",
       "      <th>WMT</th>\n",
       "      <th>FB</th>\n",
       "    </tr>\n",
       "  </thead>\n",
       "  <tbody>\n",
       "    <tr>\n",
       "      <th>WMT</th>\n",
       "      <td>0.031131</td>\n",
       "      <td>0.008339</td>\n",
       "    </tr>\n",
       "    <tr>\n",
       "      <th>FB</th>\n",
       "      <td>0.008339</td>\n",
       "      <td>0.079244</td>\n",
       "    </tr>\n",
       "  </tbody>\n",
       "</table>\n",
       "</div>"
      ],
      "text/plain": [
       "          WMT        FB\n",
       "WMT  0.031131  0.008339\n",
       "FB   0.008339  0.079244"
      ]
     },
     "execution_count": 10,
     "metadata": {},
     "output_type": "execute_result"
    }
   ],
   "source": [
    "cov_matrix_a = returns.cov() * 250\n",
    "cov_matrix_a"
   ]
  },
  {
   "cell_type": "markdown",
   "metadata": {},
   "source": [
    "***"
   ]
  },
  {
   "cell_type": "code",
   "execution_count": 11,
   "metadata": {
    "collapsed": false
   },
   "outputs": [
    {
     "data": {
      "text/html": [
       "<div>\n",
       "<table border=\"1\" class=\"dataframe\">\n",
       "  <thead>\n",
       "    <tr style=\"text-align: right;\">\n",
       "      <th></th>\n",
       "      <th>WMT</th>\n",
       "      <th>FB</th>\n",
       "    </tr>\n",
       "  </thead>\n",
       "  <tbody>\n",
       "    <tr>\n",
       "      <th>WMT</th>\n",
       "      <td>1.000000</td>\n",
       "      <td>0.167889</td>\n",
       "    </tr>\n",
       "    <tr>\n",
       "      <th>FB</th>\n",
       "      <td>0.167889</td>\n",
       "      <td>1.000000</td>\n",
       "    </tr>\n",
       "  </tbody>\n",
       "</table>\n",
       "</div>"
      ],
      "text/plain": [
       "          WMT        FB\n",
       "WMT  1.000000  0.167889\n",
       "FB   0.167889  1.000000"
      ]
     },
     "execution_count": 11,
     "metadata": {},
     "output_type": "execute_result"
    }
   ],
   "source": [
    "corr_matrix = returns.corr()\n",
    "corr_matrix"
   ]
  },
  {
   "cell_type": "markdown",
   "metadata": {},
   "source": [
    "Would you consider investing in such a portfolio?"
   ]
  }
 ],
 "metadata": {
  "kernelspec": {
   "display_name": "Python 2",
   "language": "python",
   "name": "python2"
  },
  "language_info": {
   "codemirror_mode": {
    "name": "ipython",
    "version": 2
   },
   "file_extension": ".py",
   "mimetype": "text/x-python",
   "name": "python",
   "nbconvert_exporter": "python",
   "pygments_lexer": "ipython2",
   "version": "2.7.13"
  }
 },
 "nbformat": 4,
 "nbformat_minor": 2
}
