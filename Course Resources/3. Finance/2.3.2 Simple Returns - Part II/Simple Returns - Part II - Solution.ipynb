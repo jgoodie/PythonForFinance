{
 "cells": [
  {
   "cell_type": "markdown",
   "metadata": {},
   "source": [
    "## Simple Returns - Part II"
   ]
  },
  {
   "cell_type": "markdown",
   "metadata": {},
   "source": [
    "*Suggested Answers follow (usually there are multiple ways to solve a problem in Python).*"
   ]
  },
  {
   "cell_type": "markdown",
   "metadata": {},
   "source": [
    "$$\n",
    "\\frac{P_1 - P_0}{P_0} = \\frac{P_1}{P_0} - 1\n",
    "$$"
   ]
  },
  {
   "cell_type": "code",
   "execution_count": 1,
   "metadata": {
    "collapsed": false
   },
   "outputs": [
    {
     "name": "stdout",
     "output_type": "stream",
     "text": [
      "Date\n",
      "2002-01-02         NaN\n",
      "2002-01-03    0.032816\n",
      "2002-01-04   -0.004910\n",
      "2002-01-07   -0.004935\n",
      "2002-01-08    0.011960\n",
      "2002-01-09   -0.009513\n",
      "2002-01-10    0.008149\n",
      "2002-01-11   -0.009815\n",
      "2002-01-14   -0.001749\n",
      "2002-01-15    0.015771\n",
      "2002-01-16   -0.024152\n",
      "2002-01-17    0.029169\n",
      "2002-01-18   -0.053822\n",
      "2002-01-22   -0.024811\n",
      "2002-01-23   -0.011170\n",
      "2002-01-24    0.014434\n",
      "2002-01-25   -0.013300\n",
      "2002-01-28    0.000313\n",
      "2002-01-29   -0.023504\n",
      "2002-01-30    0.008344\n",
      "2002-01-31    0.014004\n",
      "2002-02-01   -0.016635\n",
      "2002-02-04   -0.024577\n",
      "2002-02-05    0.000654\n",
      "2002-02-06   -0.012426\n",
      "2002-02-07   -0.009934\n",
      "2002-02-08    0.014047\n",
      "2002-02-11    0.007916\n",
      "2002-02-12   -0.016034\n",
      "2002-02-13    0.027935\n",
      "                ...   \n",
      "2017-05-23    0.003360\n",
      "2017-05-24    0.001310\n",
      "2017-05-25    0.012360\n",
      "2017-05-26    0.004884\n",
      "2017-05-30    0.006432\n",
      "2017-05-31   -0.008095\n",
      "2017-06-01    0.003723\n",
      "2017-06-02    0.023680\n",
      "2017-06-05    0.007246\n",
      "2017-06-06    0.003320\n",
      "2017-06-07   -0.001793\n",
      "2017-06-08   -0.006078\n",
      "2017-06-09   -0.022655\n",
      "2017-06-12   -0.007679\n",
      "2017-06-13    0.012468\n",
      "2017-06-14   -0.005379\n",
      "2017-06-15   -0.005265\n",
      "2017-06-16    0.001431\n",
      "2017-06-19    0.012429\n",
      "2017-06-20   -0.013546\n",
      "2017-06-21    0.005149\n",
      "2017-06-22   -0.000142\n",
      "2017-06-23    0.013521\n",
      "2017-06-26   -0.009549\n",
      "2017-06-27   -0.018715\n",
      "2017-06-28    0.008525\n",
      "2017-06-29   -0.018768\n",
      "2017-06-30    0.006424\n",
      "2017-07-03   -0.011026\n",
      "2017-07-05    0.013349\n",
      "Name: simple_return, dtype: float64\n"
     ]
    }
   ],
   "source": [
    "import numpy as np\n",
    "from pandas_datareader import data as wb\n",
    "MSFT = wb.DataReader('MSFT', data_source='google', start='2002-1-1')\n",
    "MSFT['simple_return'] = (MSFT['Close'] / MSFT['Close'].shift(1)) - 1\n",
    "print MSFT['simple_return']"
   ]
  },
  {
   "cell_type": "markdown",
   "metadata": {},
   "source": [
    "Plot the simple returns on a graph."
   ]
  },
  {
   "cell_type": "code",
   "execution_count": 2,
   "metadata": {
    "collapsed": false
   },
   "outputs": [],
   "source": [
    "import matplotlib.pyplot as plt"
   ]
  },
  {
   "cell_type": "code",
   "execution_count": 3,
   "metadata": {
    "collapsed": false
   },
   "outputs": [
    {
     "data": {
      "image/png": "[encoded data removed]",
      "text/plain": [
       "<matplotlib.figure.Figure at 0x879e4e0>"
      ]
     },
     "metadata": {},
     "output_type": "display_data"
    }
   ],
   "source": [
    "MSFT['simple_return'].plot(figsize=(8, 5))\n",
    "plt.show()"
   ]
  },
  {
   "cell_type": "markdown",
   "metadata": {},
   "source": [
    "Calculate the average daily return."
   ]
  },
  {
   "cell_type": "code",
   "execution_count": 4,
   "metadata": {
    "collapsed": false
   },
   "outputs": [
    {
     "data": {
      "text/plain": [
       "0.00033564823731519053"
      ]
     },
     "execution_count": 4,
     "metadata": {},
     "output_type": "execute_result"
    }
   ],
   "source": [
    "avg_returns_d = MSFT['simple_return'].mean()\n",
    "avg_returns_d"
   ]
  },
  {
   "cell_type": "markdown",
   "metadata": {},
   "source": [
    "Estimate the average annual return."
   ]
  },
  {
   "cell_type": "code",
   "execution_count": 5,
   "metadata": {
    "collapsed": false
   },
   "outputs": [
    {
     "data": {
      "text/plain": [
       "0.083912059328797625"
      ]
     },
     "execution_count": 5,
     "metadata": {},
     "output_type": "execute_result"
    }
   ],
   "source": [
    "avg_returns_a = MSFT['simple_return'].mean() * 250\n",
    "avg_returns_a"
   ]
  },
  {
   "cell_type": "markdown",
   "metadata": {},
   "source": [
    "Print the percentage version of the result as a float with 2 digits after the decimal point."
   ]
  },
  {
   "cell_type": "code",
   "execution_count": 6,
   "metadata": {
    "collapsed": false
   },
   "outputs": [
    {
     "name": "stdout",
     "output_type": "stream",
     "text": [
      "8.39 %\n"
     ]
    }
   ],
   "source": [
    "print str(round(avg_returns_a, 4) * 100) + ' %'"
   ]
  }
 ],
 "metadata": {
  "kernelspec": {
   "display_name": "Python 2",
   "language": "python",
   "name": "python2"
  },
  "language_info": {
   "codemirror_mode": {
    "name": "ipython",
    "version": 2
   },
   "file_extension": ".py",
   "mimetype": "text/x-python",
   "name": "python",
   "nbconvert_exporter": "python",
   "pygments_lexer": "ipython2",
   "version": "2.7.13"
  }
 },
 "nbformat": 4,
 "nbformat_minor": 2
}
