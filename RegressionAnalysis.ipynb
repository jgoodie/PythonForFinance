{
 "cells": [
  {
   "cell_type": "code",
   "execution_count": 24,
   "metadata": {
    "collapsed": true
   },
   "outputs": [],
   "source": [
    "from time import sleep\n",
    "import numpy as np\n",
    "import pandas as pd\n",
    "from scipy import stats\n",
    "import statsmodels.api as sm\n",
    "from pandas_datareader import data as wb\n",
    "import quandl\n",
    "quandl.ApiConfig.api_key = 'JgrixskwB3MtGDkJtxms'\n",
    "import matplotlib.pyplot as plt\n",
    "%matplotlib inline"
   ]
  },
  {
   "cell_type": "code",
   "execution_count": 25,
   "metadata": {
    "collapsed": true
   },
   "outputs": [],
   "source": [
    "# Regression Analysis quantifies the relationship between two variables\n",
    "# Dependent and Independent variables\n",
    "# House prices vs size\n",
    "# Independent (or explanatory) variable = size, dependent variable = prices\n",
    "# 1 variable is called a simple or univariate regression\n",
    "# multiple variables is called a multivarate regression\n",
    "# Will cover OLS Regression: Ordinary Least Squares"
   ]
  },
  {
   "cell_type": "code",
   "execution_count": 26,
   "metadata": {
    "collapsed": true
   },
   "outputs": [],
   "source": [
    "data = pd.read_excel('Housing.xlsx')"
   ]
  },
  {
   "cell_type": "code",
   "execution_count": 27,
   "metadata": {},
   "outputs": [
    {
     "data": {
      "text/html": [
       "<div>\n",
       "<style>\n",
       "    .dataframe thead tr:only-child th {\n",
       "        text-align: right;\n",
       "    }\n",
       "\n",
       "    .dataframe thead th {\n",
       "        text-align: left;\n",
       "    }\n",
       "\n",
       "    .dataframe tbody tr th {\n",
       "        vertical-align: top;\n",
       "    }\n",
       "</style>\n",
       "<table border=\"1\" class=\"dataframe\">\n",
       "  <thead>\n",
       "    <tr style=\"text-align: right;\">\n",
       "      <th></th>\n",
       "      <th>House Price</th>\n",
       "      <th>House Size (sq.ft.)</th>\n",
       "      <th>State</th>\n",
       "      <th>Number of Rooms</th>\n",
       "      <th>Year of Construction</th>\n",
       "    </tr>\n",
       "  </thead>\n",
       "  <tbody>\n",
       "    <tr>\n",
       "      <th>0</th>\n",
       "      <td>1116000</td>\n",
       "      <td>1940</td>\n",
       "      <td>IN</td>\n",
       "      <td>8</td>\n",
       "      <td>2002</td>\n",
       "    </tr>\n",
       "    <tr>\n",
       "      <th>1</th>\n",
       "      <td>860000</td>\n",
       "      <td>1300</td>\n",
       "      <td>IN</td>\n",
       "      <td>5</td>\n",
       "      <td>1992</td>\n",
       "    </tr>\n",
       "    <tr>\n",
       "      <th>2</th>\n",
       "      <td>818400</td>\n",
       "      <td>1420</td>\n",
       "      <td>IN</td>\n",
       "      <td>6</td>\n",
       "      <td>1987</td>\n",
       "    </tr>\n",
       "    <tr>\n",
       "      <th>3</th>\n",
       "      <td>1000000</td>\n",
       "      <td>1680</td>\n",
       "      <td>IN</td>\n",
       "      <td>7</td>\n",
       "      <td>2000</td>\n",
       "    </tr>\n",
       "    <tr>\n",
       "      <th>4</th>\n",
       "      <td>640000</td>\n",
       "      <td>1270</td>\n",
       "      <td>IN</td>\n",
       "      <td>5</td>\n",
       "      <td>1995</td>\n",
       "    </tr>\n",
       "    <tr>\n",
       "      <th>5</th>\n",
       "      <td>1010000</td>\n",
       "      <td>1850</td>\n",
       "      <td>IN</td>\n",
       "      <td>7</td>\n",
       "      <td>1998</td>\n",
       "    </tr>\n",
       "    <tr>\n",
       "      <th>6</th>\n",
       "      <td>600000</td>\n",
       "      <td>1000</td>\n",
       "      <td>IN</td>\n",
       "      <td>4</td>\n",
       "      <td>2015</td>\n",
       "    </tr>\n",
       "    <tr>\n",
       "      <th>7</th>\n",
       "      <td>700000</td>\n",
       "      <td>1100</td>\n",
       "      <td>LA</td>\n",
       "      <td>4</td>\n",
       "      <td>2014</td>\n",
       "    </tr>\n",
       "    <tr>\n",
       "      <th>8</th>\n",
       "      <td>1100000</td>\n",
       "      <td>1600</td>\n",
       "      <td>LA</td>\n",
       "      <td>7</td>\n",
       "      <td>2017</td>\n",
       "    </tr>\n",
       "    <tr>\n",
       "      <th>9</th>\n",
       "      <td>570000</td>\n",
       "      <td>1000</td>\n",
       "      <td>NY</td>\n",
       "      <td>5</td>\n",
       "      <td>1997</td>\n",
       "    </tr>\n",
       "    <tr>\n",
       "      <th>10</th>\n",
       "      <td>860000</td>\n",
       "      <td>2150</td>\n",
       "      <td>NY</td>\n",
       "      <td>9</td>\n",
       "      <td>1997</td>\n",
       "    </tr>\n",
       "    <tr>\n",
       "      <th>11</th>\n",
       "      <td>1085000</td>\n",
       "      <td>1900</td>\n",
       "      <td>NY</td>\n",
       "      <td>9</td>\n",
       "      <td>2000</td>\n",
       "    </tr>\n",
       "    <tr>\n",
       "      <th>12</th>\n",
       "      <td>1250000</td>\n",
       "      <td>2200</td>\n",
       "      <td>NY</td>\n",
       "      <td>9</td>\n",
       "      <td>2014</td>\n",
       "    </tr>\n",
       "    <tr>\n",
       "      <th>13</th>\n",
       "      <td>850000</td>\n",
       "      <td>1100</td>\n",
       "      <td>TX</td>\n",
       "      <td>4</td>\n",
       "      <td>2017</td>\n",
       "    </tr>\n",
       "    <tr>\n",
       "      <th>14</th>\n",
       "      <td>640000</td>\n",
       "      <td>860</td>\n",
       "      <td>TX</td>\n",
       "      <td>4</td>\n",
       "      <td>1997</td>\n",
       "    </tr>\n",
       "    <tr>\n",
       "      <th>15</th>\n",
       "      <td>900000</td>\n",
       "      <td>1325</td>\n",
       "      <td>TX</td>\n",
       "      <td>6</td>\n",
       "      <td>1997</td>\n",
       "    </tr>\n",
       "    <tr>\n",
       "      <th>16</th>\n",
       "      <td>730000</td>\n",
       "      <td>1350</td>\n",
       "      <td>TX</td>\n",
       "      <td>6</td>\n",
       "      <td>2000</td>\n",
       "    </tr>\n",
       "    <tr>\n",
       "      <th>17</th>\n",
       "      <td>750000</td>\n",
       "      <td>1600</td>\n",
       "      <td>TX</td>\n",
       "      <td>6</td>\n",
       "      <td>1992</td>\n",
       "    </tr>\n",
       "    <tr>\n",
       "      <th>18</th>\n",
       "      <td>650000</td>\n",
       "      <td>950</td>\n",
       "      <td>TX</td>\n",
       "      <td>2</td>\n",
       "      <td>1987</td>\n",
       "    </tr>\n",
       "    <tr>\n",
       "      <th>19</th>\n",
       "      <td>680000</td>\n",
       "      <td>1250</td>\n",
       "      <td>TX</td>\n",
       "      <td>4</td>\n",
       "      <td>2000</td>\n",
       "    </tr>\n",
       "  </tbody>\n",
       "</table>\n",
       "</div>"
      ],
      "text/plain": [
       "    House Price  House Size (sq.ft.) State  Number of Rooms  \\\n",
       "0       1116000                 1940    IN                8   \n",
       "1        860000                 1300    IN                5   \n",
       "2        818400                 1420    IN                6   \n",
       "3       1000000                 1680    IN                7   \n",
       "4        640000                 1270    IN                5   \n",
       "5       1010000                 1850    IN                7   \n",
       "6        600000                 1000    IN                4   \n",
       "7        700000                 1100   LA                 4   \n",
       "8       1100000                 1600   LA                 7   \n",
       "9        570000                 1000    NY                5   \n",
       "10       860000                 2150    NY                9   \n",
       "11      1085000                 1900    NY                9   \n",
       "12      1250000                 2200    NY                9   \n",
       "13       850000                 1100    TX                4   \n",
       "14       640000                  860    TX                4   \n",
       "15       900000                 1325    TX                6   \n",
       "16       730000                 1350    TX                6   \n",
       "17       750000                 1600    TX                6   \n",
       "18       650000                  950    TX                2   \n",
       "19       680000                 1250    TX                4   \n",
       "\n",
       "    Year of Construction  \n",
       "0                   2002  \n",
       "1                   1992  \n",
       "2                   1987  \n",
       "3                   2000  \n",
       "4                   1995  \n",
       "5                   1998  \n",
       "6                   2015  \n",
       "7                   2014  \n",
       "8                   2017  \n",
       "9                   1997  \n",
       "10                  1997  \n",
       "11                  2000  \n",
       "12                  2014  \n",
       "13                  2017  \n",
       "14                  1997  \n",
       "15                  1997  \n",
       "16                  2000  \n",
       "17                  1992  \n",
       "18                  1987  \n",
       "19                  2000  "
      ]
     },
     "execution_count": 27,
     "metadata": {},
     "output_type": "execute_result"
    }
   ],
   "source": [
    "data"
   ]
  },
  {
   "cell_type": "code",
   "execution_count": 28,
   "metadata": {},
   "outputs": [
    {
     "data": {
      "text/plain": [
       "Index(['House Price', 'House Size (sq.ft.)', 'State', 'Number of Rooms',\n",
       "       'Year of Construction'],\n",
       "      dtype='object')"
      ]
     },
     "execution_count": 28,
     "metadata": {},
     "output_type": "execute_result"
    }
   ],
   "source": [
    "data.columns"
   ]
  },
  {
   "cell_type": "code",
   "execution_count": 29,
   "metadata": {},
   "outputs": [
    {
     "data": {
      "text/html": [
       "<div>\n",
       "<style>\n",
       "    .dataframe thead tr:only-child th {\n",
       "        text-align: right;\n",
       "    }\n",
       "\n",
       "    .dataframe thead th {\n",
       "        text-align: left;\n",
       "    }\n",
       "\n",
       "    .dataframe tbody tr th {\n",
       "        vertical-align: top;\n",
       "    }\n",
       "</style>\n",
       "<table border=\"1\" class=\"dataframe\">\n",
       "  <thead>\n",
       "    <tr style=\"text-align: right;\">\n",
       "      <th></th>\n",
       "      <th>House Price</th>\n",
       "      <th>House Size (sq.ft.)</th>\n",
       "    </tr>\n",
       "  </thead>\n",
       "  <tbody>\n",
       "    <tr>\n",
       "      <th>0</th>\n",
       "      <td>1116000</td>\n",
       "      <td>1940</td>\n",
       "    </tr>\n",
       "    <tr>\n",
       "      <th>1</th>\n",
       "      <td>860000</td>\n",
       "      <td>1300</td>\n",
       "    </tr>\n",
       "    <tr>\n",
       "      <th>2</th>\n",
       "      <td>818400</td>\n",
       "      <td>1420</td>\n",
       "    </tr>\n",
       "    <tr>\n",
       "      <th>3</th>\n",
       "      <td>1000000</td>\n",
       "      <td>1680</td>\n",
       "    </tr>\n",
       "    <tr>\n",
       "      <th>4</th>\n",
       "      <td>640000</td>\n",
       "      <td>1270</td>\n",
       "    </tr>\n",
       "    <tr>\n",
       "      <th>5</th>\n",
       "      <td>1010000</td>\n",
       "      <td>1850</td>\n",
       "    </tr>\n",
       "    <tr>\n",
       "      <th>6</th>\n",
       "      <td>600000</td>\n",
       "      <td>1000</td>\n",
       "    </tr>\n",
       "    <tr>\n",
       "      <th>7</th>\n",
       "      <td>700000</td>\n",
       "      <td>1100</td>\n",
       "    </tr>\n",
       "    <tr>\n",
       "      <th>8</th>\n",
       "      <td>1100000</td>\n",
       "      <td>1600</td>\n",
       "    </tr>\n",
       "    <tr>\n",
       "      <th>9</th>\n",
       "      <td>570000</td>\n",
       "      <td>1000</td>\n",
       "    </tr>\n",
       "    <tr>\n",
       "      <th>10</th>\n",
       "      <td>860000</td>\n",
       "      <td>2150</td>\n",
       "    </tr>\n",
       "    <tr>\n",
       "      <th>11</th>\n",
       "      <td>1085000</td>\n",
       "      <td>1900</td>\n",
       "    </tr>\n",
       "    <tr>\n",
       "      <th>12</th>\n",
       "      <td>1250000</td>\n",
       "      <td>2200</td>\n",
       "    </tr>\n",
       "    <tr>\n",
       "      <th>13</th>\n",
       "      <td>850000</td>\n",
       "      <td>1100</td>\n",
       "    </tr>\n",
       "    <tr>\n",
       "      <th>14</th>\n",
       "      <td>640000</td>\n",
       "      <td>860</td>\n",
       "    </tr>\n",
       "    <tr>\n",
       "      <th>15</th>\n",
       "      <td>900000</td>\n",
       "      <td>1325</td>\n",
       "    </tr>\n",
       "    <tr>\n",
       "      <th>16</th>\n",
       "      <td>730000</td>\n",
       "      <td>1350</td>\n",
       "    </tr>\n",
       "    <tr>\n",
       "      <th>17</th>\n",
       "      <td>750000</td>\n",
       "      <td>1600</td>\n",
       "    </tr>\n",
       "    <tr>\n",
       "      <th>18</th>\n",
       "      <td>650000</td>\n",
       "      <td>950</td>\n",
       "    </tr>\n",
       "    <tr>\n",
       "      <th>19</th>\n",
       "      <td>680000</td>\n",
       "      <td>1250</td>\n",
       "    </tr>\n",
       "  </tbody>\n",
       "</table>\n",
       "</div>"
      ],
      "text/plain": [
       "    House Price  House Size (sq.ft.)\n",
       "0       1116000                 1940\n",
       "1        860000                 1300\n",
       "2        818400                 1420\n",
       "3       1000000                 1680\n",
       "4        640000                 1270\n",
       "5       1010000                 1850\n",
       "6        600000                 1000\n",
       "7        700000                 1100\n",
       "8       1100000                 1600\n",
       "9        570000                 1000\n",
       "10       860000                 2150\n",
       "11      1085000                 1900\n",
       "12      1250000                 2200\n",
       "13       850000                 1100\n",
       "14       640000                  860\n",
       "15       900000                 1325\n",
       "16       730000                 1350\n",
       "17       750000                 1600\n",
       "18       650000                  950\n",
       "19       680000                 1250"
      ]
     },
     "execution_count": 29,
     "metadata": {},
     "output_type": "execute_result"
    }
   ],
   "source": [
    "data[['House Price', 'House Size (sq.ft.)']]"
   ]
  },
  {
   "cell_type": "code",
   "execution_count": 30,
   "metadata": {
    "collapsed": true
   },
   "outputs": [],
   "source": [
    "X = data['House Size (sq.ft.)']\n",
    "Y = data['House Price']"
   ]
  },
  {
   "cell_type": "code",
   "execution_count": 31,
   "metadata": {},
   "outputs": [
    {
     "data": {
      "text/plain": [
       "0     1940\n",
       "1     1300\n",
       "2     1420\n",
       "3     1680\n",
       "4     1270\n",
       "5     1850\n",
       "6     1000\n",
       "7     1100\n",
       "8     1600\n",
       "9     1000\n",
       "10    2150\n",
       "11    1900\n",
       "12    2200\n",
       "13    1100\n",
       "14     860\n",
       "15    1325\n",
       "16    1350\n",
       "17    1600\n",
       "18     950\n",
       "19    1250\n",
       "Name: House Size (sq.ft.), dtype: int64"
      ]
     },
     "execution_count": 31,
     "metadata": {},
     "output_type": "execute_result"
    }
   ],
   "source": [
    "# X independent variable\n",
    "X"
   ]
  },
  {
   "cell_type": "code",
   "execution_count": 32,
   "metadata": {},
   "outputs": [
    {
     "data": {
      "text/plain": [
       "0     1116000\n",
       "1      860000\n",
       "2      818400\n",
       "3     1000000\n",
       "4      640000\n",
       "5     1010000\n",
       "6      600000\n",
       "7      700000\n",
       "8     1100000\n",
       "9      570000\n",
       "10     860000\n",
       "11    1085000\n",
       "12    1250000\n",
       "13     850000\n",
       "14     640000\n",
       "15     900000\n",
       "16     730000\n",
       "17     750000\n",
       "18     650000\n",
       "19     680000\n",
       "Name: House Price, dtype: int64"
      ]
     },
     "execution_count": 32,
     "metadata": {},
     "output_type": "execute_result"
    }
   ],
   "source": [
    "# Y is dependent varialble: it depends on X\n",
    "Y"
   ]
  },
  {
   "cell_type": "code",
   "execution_count": 33,
   "metadata": {},
   "outputs": [
    {
     "data": {
      "image/png": "[encoded data removed]",
      "text/plain": [
       "<matplotlib.figure.Figure at 0x10d1215f8>"
      ]
     },
     "metadata": {},
     "output_type": "display_data"
    }
   ],
   "source": [
    "plt.scatter(X,Y)\n",
    "plt.axis([0,2500,0,1500000])\n",
    "plt.ylabel('House Price')\n",
    "plt.xlabel('House Size');"
   ]
  },
  {
   "cell_type": "code",
   "execution_count": 35,
   "metadata": {
    "collapsed": true
   },
   "outputs": [],
   "source": [
    "# X is independent variable, Y is dependent variable\n",
    "# important to note that there are many factors that influence a house price; size is not the only factor\n",
    "# A simple regression will omit some important factors, which will result in an estimation error\n",
    "# simple regression useful but it isn't perfect\n",
    "# We need to include the an error term or the residuals: Y = alpha + betaX + error (error = residuals)\n",
    "# The best fit line minimized the sum of the squared residuals\n",
    "# The coefficients found with this technique are called OLS estimates (Ordinary Least Squares)\n",
    "# Are all regressions created equal? Certain variables are better at predicting other variables\n",
    "# House size is one of the better indicators of house price \n",
    "# Some regressions have higher explanitory power than others.\n",
    "# Good vs Bad (Stong vs Weak) regressions: Determine with R squared (R^2)\n",
    "# We need to look at the variability of the data\n",
    "# We use variance to look at the variability of the data\n",
    "# Total Sum of Squares (TSS) provides a sense of the variability of the data\n",
    "# R^2 varies between 0% to 100% and the higher it is, the more predictive power the model has.\n",
    "# less that 10%: the model has little predictive power\n",
    "# 30% or more are \"solid\" indicators of future performance."
   ]
  },
  {
   "cell_type": "code",
   "execution_count": 36,
   "metadata": {},
   "outputs": [
    {
     "data": {
      "image/png": "[encoded data removed]",
      "text/plain": [
       "<matplotlib.figure.Figure at 0x10cb777b8>"
      ]
     },
     "metadata": {},
     "output_type": "display_data"
    }
   ],
   "source": [
    "plt.scatter(X,Y)\n",
    "plt.axis([0,2500,0,1500000])\n",
    "plt.ylabel('House Price')\n",
    "plt.xlabel('House Size');"
   ]
  },
  {
   "cell_type": "code",
   "execution_count": 37,
   "metadata": {
    "collapsed": true
   },
   "outputs": [],
   "source": [
    "# Stats Models \n",
    "X1 = sm.add_constant(X)\n",
    "reg = sm.OLS(Y, X1).fit()"
   ]
  },
  {
   "cell_type": "code",
   "execution_count": 42,
   "metadata": {},
   "outputs": [
    {
     "data": {
      "text/html": [
       "<table class=\"simpletable\">\n",
       "<caption>OLS Regression Results</caption>\n",
       "<tr>\n",
       "  <th>Dep. Variable:</th>       <td>House Price</td>   <th>  R-squared:         </th> <td>   0.678</td>\n",
       "</tr>\n",
       "<tr>\n",
       "  <th>Model:</th>                   <td>OLS</td>       <th>  Adj. R-squared:    </th> <td>   0.660</td>\n",
       "</tr>\n",
       "<tr>\n",
       "  <th>Method:</th>             <td>Least Squares</td>  <th>  F-statistic:       </th> <td>   37.95</td>\n",
       "</tr>\n",
       "<tr>\n",
       "  <th>Date:</th>             <td>Tue, 24 Oct 2017</td> <th>  Prob (F-statistic):</th> <td>8.13e-06</td>\n",
       "</tr>\n",
       "<tr>\n",
       "  <th>Time:</th>                 <td>15:48:12</td>     <th>  Log-Likelihood:    </th> <td> -260.43</td>\n",
       "</tr>\n",
       "<tr>\n",
       "  <th>No. Observations:</th>      <td>    20</td>      <th>  AIC:               </th> <td>   524.9</td>\n",
       "</tr>\n",
       "<tr>\n",
       "  <th>Df Residuals:</th>          <td>    18</td>      <th>  BIC:               </th> <td>   526.8</td>\n",
       "</tr>\n",
       "<tr>\n",
       "  <th>Df Model:</th>              <td>     1</td>      <th>                     </th>     <td> </td>   \n",
       "</tr>\n",
       "<tr>\n",
       "  <th>Covariance Type:</th>      <td>nonrobust</td>    <th>                     </th>     <td> </td>   \n",
       "</tr>\n",
       "</table>\n",
       "<table class=\"simpletable\">\n",
       "<tr>\n",
       "           <td></td>              <th>coef</th>     <th>std err</th>      <th>t</th>      <th>P>|t|</th>  <th>[0.025</th>    <th>0.975]</th>  \n",
       "</tr>\n",
       "<tr>\n",
       "  <th>const</th>               <td> 2.608e+05</td> <td> 9.76e+04</td> <td>    2.673</td> <td> 0.016</td> <td> 5.58e+04</td> <td> 4.66e+05</td>\n",
       "</tr>\n",
       "<tr>\n",
       "  <th>House Size (sq.ft.)</th> <td>  401.9163</td> <td>   65.243</td> <td>    6.160</td> <td> 0.000</td> <td>  264.846</td> <td>  538.987</td>\n",
       "</tr>\n",
       "</table>\n",
       "<table class=\"simpletable\">\n",
       "<tr>\n",
       "  <th>Omnibus:</th>       <td> 1.238</td> <th>  Durbin-Watson:     </th> <td>   1.810</td>\n",
       "</tr>\n",
       "<tr>\n",
       "  <th>Prob(Omnibus):</th> <td> 0.538</td> <th>  Jarque-Bera (JB):  </th> <td>   0.715</td>\n",
       "</tr>\n",
       "<tr>\n",
       "  <th>Skew:</th>          <td>-0.459</td> <th>  Prob(JB):          </th> <td>   0.699</td>\n",
       "</tr>\n",
       "<tr>\n",
       "  <th>Kurtosis:</th>      <td> 2.884</td> <th>  Cond. No.          </th> <td>5.66e+03</td>\n",
       "</tr>\n",
       "</table>"
      ],
      "text/plain": [
       "<class 'statsmodels.iolib.summary.Summary'>\n",
       "\"\"\"\n",
       "                            OLS Regression Results                            \n",
       "==============================================================================\n",
       "Dep. Variable:            House Price   R-squared:                       0.678\n",
       "Model:                            OLS   Adj. R-squared:                  0.660\n",
       "Method:                 Least Squares   F-statistic:                     37.95\n",
       "Date:                Tue, 24 Oct 2017   Prob (F-statistic):           8.13e-06\n",
       "Time:                        15:48:12   Log-Likelihood:                -260.43\n",
       "No. Observations:                  20   AIC:                             524.9\n",
       "Df Residuals:                      18   BIC:                             526.8\n",
       "Df Model:                           1                                         \n",
       "Covariance Type:            nonrobust                                         \n",
       "=======================================================================================\n",
       "                          coef    std err          t      P>|t|      [0.025      0.975]\n",
       "---------------------------------------------------------------------------------------\n",
       "const                2.608e+05   9.76e+04      2.673      0.016    5.58e+04    4.66e+05\n",
       "House Size (sq.ft.)   401.9163     65.243      6.160      0.000     264.846     538.987\n",
       "==============================================================================\n",
       "Omnibus:                        1.238   Durbin-Watson:                   1.810\n",
       "Prob(Omnibus):                  0.538   Jarque-Bera (JB):                0.715\n",
       "Skew:                          -0.459   Prob(JB):                        0.699\n",
       "Kurtosis:                       2.884   Cond. No.                     5.66e+03\n",
       "==============================================================================\n",
       "\n",
       "Warnings:\n",
       "[1] Standard Errors assume that the covariance matrix of the errors is correctly specified.\n",
       "[2] The condition number is large, 5.66e+03. This might indicate that there are\n",
       "strong multicollinearity or other numerical problems.\n",
       "\"\"\""
      ]
     },
     "execution_count": 42,
     "metadata": {},
     "output_type": "execute_result"
    }
   ],
   "source": [
    "reg.summary()"
   ]
  },
  {
   "cell_type": "code",
   "execution_count": 48,
   "metadata": {},
   "outputs": [
    {
     "data": {
      "text/plain": [
       "260800.0"
      ]
     },
     "execution_count": 48,
     "metadata": {},
     "output_type": "execute_result"
    }
   ],
   "source": [
    "# Alpha is Const Coef. See above\n",
    "2.608e+05"
   ]
  },
  {
   "cell_type": "code",
   "execution_count": 50,
   "metadata": {},
   "outputs": [
    {
     "data": {
      "text/plain": [
       "402"
      ]
     },
     "execution_count": 50,
     "metadata": {},
     "output_type": "execute_result"
    }
   ],
   "source": [
    "# Beta is 401.9163\n",
    "round(401.9163)"
   ]
  },
  {
   "cell_type": "code",
   "execution_count": 51,
   "metadata": {
    "collapsed": true
   },
   "outputs": [],
   "source": [
    "# Std is $65.243 +- sq ft"
   ]
  },
  {
   "cell_type": "code",
   "execution_count": 53,
   "metadata": {},
   "outputs": [
    {
     "data": {
      "text/plain": [
       "662800.0"
      ]
     },
     "execution_count": 53,
     "metadata": {},
     "output_type": "execute_result"
    }
   ],
   "source": [
    "# Expected value of a house that is 1000 sq ft would be (Y = beta + alpha*X)\n",
    "2.608e+05 + round(401.9163)*1000"
   ]
  },
  {
   "cell_type": "code",
   "execution_count": 54,
   "metadata": {
    "collapsed": true
   },
   "outputs": [],
   "source": [
    "# Alternately Scipy can do the give use the same info very quickly\n",
    "slope, intercept, r_val, p_val, std_err = stats.linregress(X,Y)"
   ]
  },
  {
   "cell_type": "code",
   "execution_count": 55,
   "metadata": {},
   "outputs": [
    {
     "data": {
      "text/plain": [
       "LinregressResult(slope=401.91628631922595, intercept=260806.23605609639, rvalue=0.82357755346969241, pvalue=8.1296423772313077e-06, stderr=65.242995106364916)"
      ]
     },
     "execution_count": 55,
     "metadata": {},
     "output_type": "execute_result"
    }
   ],
   "source": [
    "stats.linregress(X,Y)"
   ]
  },
  {
   "cell_type": "code",
   "execution_count": 56,
   "metadata": {},
   "outputs": [
    {
     "data": {
      "text/plain": [
       "662722.52237532241"
      ]
     },
     "execution_count": 56,
     "metadata": {},
     "output_type": "execute_result"
    }
   ],
   "source": [
    "intercept + slope*1000"
   ]
  },
  {
   "cell_type": "code",
   "execution_count": 57,
   "metadata": {},
   "outputs": [
    {
     "data": {
      "text/plain": [
       "401.91628631922595"
      ]
     },
     "execution_count": 57,
     "metadata": {},
     "output_type": "execute_result"
    }
   ],
   "source": [
    "slope"
   ]
  },
  {
   "cell_type": "code",
   "execution_count": 58,
   "metadata": {},
   "outputs": [
    {
     "data": {
      "text/plain": [
       "260806.23605609639"
      ]
     },
     "execution_count": 58,
     "metadata": {},
     "output_type": "execute_result"
    }
   ],
   "source": [
    "intercept"
   ]
  },
  {
   "cell_type": "code",
   "execution_count": 59,
   "metadata": {},
   "outputs": [
    {
     "data": {
      "text/plain": [
       "0.82357755346969241"
      ]
     },
     "execution_count": 59,
     "metadata": {},
     "output_type": "execute_result"
    }
   ],
   "source": [
    "r_val"
   ]
  },
  {
   "cell_type": "code",
   "execution_count": 60,
   "metadata": {},
   "outputs": [
    {
     "data": {
      "text/plain": [
       "0.67827998657912403"
      ]
     },
     "execution_count": 60,
     "metadata": {},
     "output_type": "execute_result"
    }
   ],
   "source": [
    "r_val**2"
   ]
  },
  {
   "cell_type": "code",
   "execution_count": 61,
   "metadata": {},
   "outputs": [
    {
     "data": {
      "text/plain": [
       "8.1296423772313077e-06"
      ]
     },
     "execution_count": 61,
     "metadata": {},
     "output_type": "execute_result"
    }
   ],
   "source": [
    "p_val"
   ]
  },
  {
   "cell_type": "code",
   "execution_count": 62,
   "metadata": {},
   "outputs": [
    {
     "data": {
      "text/plain": [
       "65.242995106364916"
      ]
     },
     "execution_count": 62,
     "metadata": {},
     "output_type": "execute_result"
    }
   ],
   "source": [
    "std_err"
   ]
  }
 ],
 "metadata": {
  "kernelspec": {
   "display_name": "Python 3",
   "language": "python",
   "name": "python3"
  },
  "language_info": {
   "codemirror_mode": {
    "name": "ipython",
    "version": 3
   },
   "file_extension": ".py",
   "mimetype": "text/x-python",
   "name": "python",
   "nbconvert_exporter": "python",
   "pygments_lexer": "ipython3",
   "version": "3.6.1"
  }
 },
 "nbformat": 4,
 "nbformat_minor": 2
}
