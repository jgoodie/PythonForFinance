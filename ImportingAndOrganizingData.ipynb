{
 "cells": [
  {
   "cell_type": "code",
   "execution_count": 32,
   "metadata": {
    "collapsed": true
   },
   "outputs": [],
   "source": [
    "import time\n",
    "import numpy as np\n",
    "import pandas as pd\n",
    "from pandas_datareader import data as wb\n",
    "import quandl\n",
    "quandl.ApiConfig.api_key = 'JgrixskwB3MtGDkJtxms'\n",
    "import matplotlib.pyplot as plt\n",
    "%matplotlib inline"
   ]
  },
  {
   "cell_type": "code",
   "execution_count": 4,
   "metadata": {
    "collapsed": true
   },
   "outputs": [],
   "source": [
    "ser = pd.Series(np.random.random(5), name=\"Column 01\")"
   ]
  },
  {
   "cell_type": "code",
   "execution_count": 5,
   "metadata": {},
   "outputs": [
    {
     "data": {
      "text/plain": [
       "0    0.973084\n",
       "1    0.169255\n",
       "2    0.661954\n",
       "3    0.954301\n",
       "4    0.135987\n",
       "Name: Column 01, dtype: float64"
      ]
     },
     "execution_count": 5,
     "metadata": {},
     "output_type": "execute_result"
    }
   ],
   "source": [
    "ser"
   ]
  },
  {
   "cell_type": "code",
   "execution_count": 6,
   "metadata": {},
   "outputs": [
    {
     "data": {
      "text/plain": [
       "0.66195437960626824"
      ]
     },
     "execution_count": 6,
     "metadata": {},
     "output_type": "execute_result"
    }
   ],
   "source": [
    "ser[2]"
   ]
  },
  {
   "cell_type": "code",
   "execution_count": 7,
   "metadata": {
    "collapsed": true
   },
   "outputs": [],
   "source": [
    "PG = wb.DataReader('PG', data_source='yahoo', start='1995-01-01')"
   ]
  },
  {
   "cell_type": "code",
   "execution_count": 11,
   "metadata": {
    "scrolled": true
   },
   "outputs": [
    {
     "data": {
      "text/html": [
       "<div>\n",
       "<style>\n",
       "    .dataframe thead tr:only-child th {\n",
       "        text-align: right;\n",
       "    }\n",
       "\n",
       "    .dataframe thead th {\n",
       "        text-align: left;\n",
       "    }\n",
       "\n",
       "    .dataframe tbody tr th {\n",
       "        vertical-align: top;\n",
       "    }\n",
       "</style>\n",
       "<table border=\"1\" class=\"dataframe\">\n",
       "  <thead>\n",
       "    <tr style=\"text-align: right;\">\n",
       "      <th></th>\n",
       "      <th>Open</th>\n",
       "      <th>High</th>\n",
       "      <th>Low</th>\n",
       "      <th>Close</th>\n",
       "      <th>Adj Close</th>\n",
       "      <th>Volume</th>\n",
       "    </tr>\n",
       "    <tr>\n",
       "      <th>Date</th>\n",
       "      <th></th>\n",
       "      <th></th>\n",
       "      <th></th>\n",
       "      <th></th>\n",
       "      <th></th>\n",
       "      <th></th>\n",
       "    </tr>\n",
       "  </thead>\n",
       "  <tbody>\n",
       "    <tr>\n",
       "      <th>2017-10-09</th>\n",
       "      <td>92.400002</td>\n",
       "      <td>92.620003</td>\n",
       "      <td>91.930000</td>\n",
       "      <td>92.120003</td>\n",
       "      <td>92.120003</td>\n",
       "      <td>5149000</td>\n",
       "    </tr>\n",
       "    <tr>\n",
       "      <th>2017-10-10</th>\n",
       "      <td>92.370003</td>\n",
       "      <td>93.040001</td>\n",
       "      <td>89.860001</td>\n",
       "      <td>91.620003</td>\n",
       "      <td>91.620003</td>\n",
       "      <td>17125600</td>\n",
       "    </tr>\n",
       "    <tr>\n",
       "      <th>2017-10-11</th>\n",
       "      <td>91.089996</td>\n",
       "      <td>91.730003</td>\n",
       "      <td>91.070000</td>\n",
       "      <td>91.459999</td>\n",
       "      <td>91.459999</td>\n",
       "      <td>7115400</td>\n",
       "    </tr>\n",
       "    <tr>\n",
       "      <th>2017-10-12</th>\n",
       "      <td>91.410004</td>\n",
       "      <td>92.309998</td>\n",
       "      <td>91.389999</td>\n",
       "      <td>92.150002</td>\n",
       "      <td>92.150002</td>\n",
       "      <td>5984900</td>\n",
       "    </tr>\n",
       "    <tr>\n",
       "      <th>2017-10-13</th>\n",
       "      <td>92.699997</td>\n",
       "      <td>93.510002</td>\n",
       "      <td>92.589996</td>\n",
       "      <td>93.040001</td>\n",
       "      <td>93.040001</td>\n",
       "      <td>6915200</td>\n",
       "    </tr>\n",
       "  </tbody>\n",
       "</table>\n",
       "</div>"
      ],
      "text/plain": [
       "                 Open       High        Low      Close  Adj Close    Volume\n",
       "Date                                                                       \n",
       "2017-10-09  92.400002  92.620003  91.930000  92.120003  92.120003   5149000\n",
       "2017-10-10  92.370003  93.040001  89.860001  91.620003  91.620003  17125600\n",
       "2017-10-11  91.089996  91.730003  91.070000  91.459999  91.459999   7115400\n",
       "2017-10-12  91.410004  92.309998  91.389999  92.150002  92.150002   5984900\n",
       "2017-10-13  92.699997  93.510002  92.589996  93.040001  93.040001   6915200"
      ]
     },
     "execution_count": 11,
     "metadata": {},
     "output_type": "execute_result"
    }
   ],
   "source": [
    "PG.tail()"
   ]
  },
  {
   "cell_type": "code",
   "execution_count": 13,
   "metadata": {},
   "outputs": [
    {
     "name": "stdout",
     "output_type": "stream",
     "text": [
      "<class 'pandas.core.frame.DataFrame'>\n",
      "DatetimeIndex: 5738 entries, 1995-01-03 to 2017-10-13\n",
      "Data columns (total 6 columns):\n",
      "Open         5738 non-null float64\n",
      "High         5738 non-null float64\n",
      "Low          5738 non-null float64\n",
      "Close        5738 non-null float64\n",
      "Adj Close    5738 non-null float64\n",
      "Volume       5738 non-null int64\n",
      "dtypes: float64(5), int64(1)\n",
      "memory usage: 473.8 KB\n"
     ]
    }
   ],
   "source": [
    "PG.info()"
   ]
  },
  {
   "cell_type": "code",
   "execution_count": 12,
   "metadata": {
    "scrolled": true
   },
   "outputs": [
    {
     "data": {
      "text/html": [
       "<div>\n",
       "<style>\n",
       "    .dataframe thead tr:only-child th {\n",
       "        text-align: right;\n",
       "    }\n",
       "\n",
       "    .dataframe thead th {\n",
       "        text-align: left;\n",
       "    }\n",
       "\n",
       "    .dataframe tbody tr th {\n",
       "        vertical-align: top;\n",
       "    }\n",
       "</style>\n",
       "<table border=\"1\" class=\"dataframe\">\n",
       "  <thead>\n",
       "    <tr style=\"text-align: right;\">\n",
       "      <th></th>\n",
       "      <th>Open</th>\n",
       "      <th>High</th>\n",
       "      <th>Low</th>\n",
       "      <th>Close</th>\n",
       "      <th>Adj Close</th>\n",
       "      <th>Volume</th>\n",
       "    </tr>\n",
       "  </thead>\n",
       "  <tbody>\n",
       "    <tr>\n",
       "      <th>count</th>\n",
       "      <td>5738.000000</td>\n",
       "      <td>5738.000000</td>\n",
       "      <td>5738.000000</td>\n",
       "      <td>5738.000000</td>\n",
       "      <td>5738.000000</td>\n",
       "      <td>5.738000e+03</td>\n",
       "    </tr>\n",
       "    <tr>\n",
       "      <th>mean</th>\n",
       "      <td>55.473902</td>\n",
       "      <td>55.923117</td>\n",
       "      <td>55.047753</td>\n",
       "      <td>55.514055</td>\n",
       "      <td>43.453505</td>\n",
       "      <td>8.449334e+06</td>\n",
       "    </tr>\n",
       "    <tr>\n",
       "      <th>std</th>\n",
       "      <td>19.340206</td>\n",
       "      <td>19.387344</td>\n",
       "      <td>19.295569</td>\n",
       "      <td>19.335225</td>\n",
       "      <td>21.314218</td>\n",
       "      <td>5.979626e+06</td>\n",
       "    </tr>\n",
       "    <tr>\n",
       "      <th>min</th>\n",
       "      <td>15.156250</td>\n",
       "      <td>15.406250</td>\n",
       "      <td>15.156250</td>\n",
       "      <td>15.218750</td>\n",
       "      <td>8.810512</td>\n",
       "      <td>6.142000e+05</td>\n",
       "    </tr>\n",
       "    <tr>\n",
       "      <th>25%</th>\n",
       "      <td>42.250000</td>\n",
       "      <td>42.720312</td>\n",
       "      <td>41.751250</td>\n",
       "      <td>42.343750</td>\n",
       "      <td>26.842979</td>\n",
       "      <td>5.186350e+06</td>\n",
       "    </tr>\n",
       "    <tr>\n",
       "      <th>50%</th>\n",
       "      <td>55.980000</td>\n",
       "      <td>56.375000</td>\n",
       "      <td>55.534999</td>\n",
       "      <td>56.000000</td>\n",
       "      <td>40.319614</td>\n",
       "      <td>7.261300e+06</td>\n",
       "    </tr>\n",
       "    <tr>\n",
       "      <th>75%</th>\n",
       "      <td>67.510002</td>\n",
       "      <td>67.965000</td>\n",
       "      <td>67.042502</td>\n",
       "      <td>67.517498</td>\n",
       "      <td>54.394191</td>\n",
       "      <td>1.007185e+07</td>\n",
       "    </tr>\n",
       "    <tr>\n",
       "      <th>max</th>\n",
       "      <td>94.169998</td>\n",
       "      <td>94.669998</td>\n",
       "      <td>93.830002</td>\n",
       "      <td>94.400002</td>\n",
       "      <td>94.400002</td>\n",
       "      <td>1.372872e+08</td>\n",
       "    </tr>\n",
       "  </tbody>\n",
       "</table>\n",
       "</div>"
      ],
      "text/plain": [
       "              Open         High          Low        Close    Adj Close  \\\n",
       "count  5738.000000  5738.000000  5738.000000  5738.000000  5738.000000   \n",
       "mean     55.473902    55.923117    55.047753    55.514055    43.453505   \n",
       "std      19.340206    19.387344    19.295569    19.335225    21.314218   \n",
       "min      15.156250    15.406250    15.156250    15.218750     8.810512   \n",
       "25%      42.250000    42.720312    41.751250    42.343750    26.842979   \n",
       "50%      55.980000    56.375000    55.534999    56.000000    40.319614   \n",
       "75%      67.510002    67.965000    67.042502    67.517498    54.394191   \n",
       "max      94.169998    94.669998    93.830002    94.400002    94.400002   \n",
       "\n",
       "             Volume  \n",
       "count  5.738000e+03  \n",
       "mean   8.449334e+06  \n",
       "std    5.979626e+06  \n",
       "min    6.142000e+05  \n",
       "25%    5.186350e+06  \n",
       "50%    7.261300e+06  \n",
       "75%    1.007185e+07  \n",
       "max    1.372872e+08  "
      ]
     },
     "execution_count": 12,
     "metadata": {},
     "output_type": "execute_result"
    }
   ],
   "source": [
    "PG.describe()"
   ]
  },
  {
   "cell_type": "code",
   "execution_count": 21,
   "metadata": {},
   "outputs": [
    {
     "data": {
      "text/plain": [
       "Date\n",
       "1995-01-03    2.510977\n",
       "1995-01-04    2.529230\n",
       "1995-01-05    2.487510\n",
       "1995-01-06    2.529230\n",
       "1995-01-09    2.513584\n",
       "Name: Adj Close, dtype: float64"
      ]
     },
     "execution_count": 21,
     "metadata": {},
     "output_type": "execute_result"
    }
   ],
   "source": [
    "wb.DataReader('MSFT',data_source='yahoo',start='1995-01-01')['Adj Close'].head()"
   ]
  },
  {
   "cell_type": "code",
   "execution_count": 26,
   "metadata": {
    "collapsed": true
   },
   "outputs": [],
   "source": [
    "symbols = ['PG','MSFT','T','F','GE']\n",
    "portfolio = pd.DataFrame()\n",
    "for t in symbols:\n",
    "    time.sleep(10)\n",
    "    portfolio[t] = wb.DataReader(t,data_source='yahoo',start='1995-01-01')['Adj Close']"
   ]
  },
  {
   "cell_type": "code",
   "execution_count": 27,
   "metadata": {},
   "outputs": [
    {
     "data": {
      "text/html": [
       "<div>\n",
       "<style>\n",
       "    .dataframe thead tr:only-child th {\n",
       "        text-align: right;\n",
       "    }\n",
       "\n",
       "    .dataframe thead th {\n",
       "        text-align: left;\n",
       "    }\n",
       "\n",
       "    .dataframe tbody tr th {\n",
       "        vertical-align: top;\n",
       "    }\n",
       "</style>\n",
       "<table border=\"1\" class=\"dataframe\">\n",
       "  <thead>\n",
       "    <tr style=\"text-align: right;\">\n",
       "      <th></th>\n",
       "      <th>PG</th>\n",
       "      <th>MSFT</th>\n",
       "      <th>T</th>\n",
       "      <th>F</th>\n",
       "      <th>GE</th>\n",
       "    </tr>\n",
       "    <tr>\n",
       "      <th>Date</th>\n",
       "      <th></th>\n",
       "      <th></th>\n",
       "      <th></th>\n",
       "      <th></th>\n",
       "      <th></th>\n",
       "    </tr>\n",
       "  </thead>\n",
       "  <tbody>\n",
       "    <tr>\n",
       "      <th>1995-01-03</th>\n",
       "      <td>9.027610</td>\n",
       "      <td>2.510977</td>\n",
       "      <td>7.451171</td>\n",
       "      <td>5.155141</td>\n",
       "      <td>4.479902</td>\n",
       "    </tr>\n",
       "    <tr>\n",
       "      <th>1995-01-04</th>\n",
       "      <td>8.955246</td>\n",
       "      <td>2.529230</td>\n",
       "      <td>7.408570</td>\n",
       "      <td>5.293846</td>\n",
       "      <td>4.479902</td>\n",
       "    </tr>\n",
       "    <tr>\n",
       "      <th>1995-01-05</th>\n",
       "      <td>8.828607</td>\n",
       "      <td>2.487510</td>\n",
       "      <td>7.524335</td>\n",
       "      <td>5.247612</td>\n",
       "      <td>4.490882</td>\n",
       "    </tr>\n",
       "    <tr>\n",
       "      <th>1995-01-06</th>\n",
       "      <td>8.846698</td>\n",
       "      <td>2.529230</td>\n",
       "      <td>7.524335</td>\n",
       "      <td>5.247612</td>\n",
       "      <td>4.468922</td>\n",
       "    </tr>\n",
       "    <tr>\n",
       "      <th>1995-01-09</th>\n",
       "      <td>8.810512</td>\n",
       "      <td>2.513584</td>\n",
       "      <td>7.501179</td>\n",
       "      <td>5.340079</td>\n",
       "      <td>4.425002</td>\n",
       "    </tr>\n",
       "  </tbody>\n",
       "</table>\n",
       "</div>"
      ],
      "text/plain": [
       "                  PG      MSFT         T         F        GE\n",
       "Date                                                        \n",
       "1995-01-03  9.027610  2.510977  7.451171  5.155141  4.479902\n",
       "1995-01-04  8.955246  2.529230  7.408570  5.293846  4.479902\n",
       "1995-01-05  8.828607  2.487510  7.524335  5.247612  4.490882\n",
       "1995-01-06  8.846698  2.529230  7.524335  5.247612  4.468922\n",
       "1995-01-09  8.810512  2.513584  7.501179  5.340079  4.425002"
      ]
     },
     "execution_count": 27,
     "metadata": {},
     "output_type": "execute_result"
    }
   ],
   "source": [
    "portfolio.head()"
   ]
  },
  {
   "cell_type": "code",
   "execution_count": 42,
   "metadata": {
    "collapsed": true
   },
   "outputs": [],
   "source": [
    "fredgdp = quandl.get(\"FRED/GDP\")\n",
    "fredgdp.columns = ['GDP']"
   ]
  },
  {
   "cell_type": "code",
   "execution_count": 43,
   "metadata": {},
   "outputs": [
    {
     "data": {
      "text/html": [
       "<div>\n",
       "<style>\n",
       "    .dataframe thead tr:only-child th {\n",
       "        text-align: right;\n",
       "    }\n",
       "\n",
       "    .dataframe thead th {\n",
       "        text-align: left;\n",
       "    }\n",
       "\n",
       "    .dataframe tbody tr th {\n",
       "        vertical-align: top;\n",
       "    }\n",
       "</style>\n",
       "<table border=\"1\" class=\"dataframe\">\n",
       "  <thead>\n",
       "    <tr style=\"text-align: right;\">\n",
       "      <th></th>\n",
       "      <th>GDP</th>\n",
       "    </tr>\n",
       "    <tr>\n",
       "      <th>Date</th>\n",
       "      <th></th>\n",
       "    </tr>\n",
       "  </thead>\n",
       "  <tbody>\n",
       "    <tr>\n",
       "      <th>2016-04-01</th>\n",
       "      <td>18538.0</td>\n",
       "    </tr>\n",
       "    <tr>\n",
       "      <th>2016-07-01</th>\n",
       "      <td>18729.1</td>\n",
       "    </tr>\n",
       "    <tr>\n",
       "      <th>2016-10-01</th>\n",
       "      <td>18905.5</td>\n",
       "    </tr>\n",
       "    <tr>\n",
       "      <th>2017-01-01</th>\n",
       "      <td>19057.7</td>\n",
       "    </tr>\n",
       "    <tr>\n",
       "      <th>2017-04-01</th>\n",
       "      <td>19250.0</td>\n",
       "    </tr>\n",
       "  </tbody>\n",
       "</table>\n",
       "</div>"
      ],
      "text/plain": [
       "                GDP\n",
       "Date               \n",
       "2016-04-01  18538.0\n",
       "2016-07-01  18729.1\n",
       "2016-10-01  18905.5\n",
       "2017-01-01  19057.7\n",
       "2017-04-01  19250.0"
      ]
     },
     "execution_count": 43,
     "metadata": {},
     "output_type": "execute_result"
    }
   ],
   "source": [
    "fredgdp.tail()"
   ]
  },
  {
   "cell_type": "code",
   "execution_count": 45,
   "metadata": {},
   "outputs": [
    {
     "data": {
      "image/png": "[encoded data removed]",
      "text/plain": [
       "<matplotlib.figure.Figure at 0x10a698358>"
      ]
     },
     "metadata": {},
     "output_type": "display_data"
    }
   ],
   "source": [
    "fredgdp.plot()\n",
    "plt.legend();"
   ]
  },
  {
   "cell_type": "code",
   "execution_count": 46,
   "metadata": {
    "collapsed": true
   },
   "outputs": [],
   "source": [
    "fredgdp.to_csv('GDP.csv')"
   ]
  },
  {
   "cell_type": "code",
   "execution_count": 49,
   "metadata": {
    "collapsed": true
   },
   "outputs": [],
   "source": [
    "gdp = pd.read_csv('GDP.csv',index_col='Date')"
   ]
  },
  {
   "cell_type": "code",
   "execution_count": 50,
   "metadata": {},
   "outputs": [
    {
     "data": {
      "text/html": [
       "<div>\n",
       "<style>\n",
       "    .dataframe thead tr:only-child th {\n",
       "        text-align: right;\n",
       "    }\n",
       "\n",
       "    .dataframe thead th {\n",
       "        text-align: left;\n",
       "    }\n",
       "\n",
       "    .dataframe tbody tr th {\n",
       "        vertical-align: top;\n",
       "    }\n",
       "</style>\n",
       "<table border=\"1\" class=\"dataframe\">\n",
       "  <thead>\n",
       "    <tr style=\"text-align: right;\">\n",
       "      <th></th>\n",
       "      <th>GDP</th>\n",
       "    </tr>\n",
       "    <tr>\n",
       "      <th>Date</th>\n",
       "      <th></th>\n",
       "    </tr>\n",
       "  </thead>\n",
       "  <tbody>\n",
       "    <tr>\n",
       "      <th>1947-01-01</th>\n",
       "      <td>243.1</td>\n",
       "    </tr>\n",
       "    <tr>\n",
       "      <th>1947-04-01</th>\n",
       "      <td>246.3</td>\n",
       "    </tr>\n",
       "    <tr>\n",
       "      <th>1947-07-01</th>\n",
       "      <td>250.1</td>\n",
       "    </tr>\n",
       "    <tr>\n",
       "      <th>1947-10-01</th>\n",
       "      <td>260.3</td>\n",
       "    </tr>\n",
       "    <tr>\n",
       "      <th>1948-01-01</th>\n",
       "      <td>266.2</td>\n",
       "    </tr>\n",
       "  </tbody>\n",
       "</table>\n",
       "</div>"
      ],
      "text/plain": [
       "              GDP\n",
       "Date             \n",
       "1947-01-01  243.1\n",
       "1947-04-01  246.3\n",
       "1947-07-01  250.1\n",
       "1947-10-01  260.3\n",
       "1948-01-01  266.2"
      ]
     },
     "execution_count": 50,
     "metadata": {},
     "output_type": "execute_result"
    }
   ],
   "source": [
    "gdp.head()"
   ]
  },
  {
   "cell_type": "code",
   "execution_count": 51,
   "metadata": {
    "collapsed": true
   },
   "outputs": [],
   "source": [
    "gdp.to_excel('gdp.xlsx')"
   ]
  },
  {
   "cell_type": "code",
   "execution_count": 54,
   "metadata": {
    "collapsed": true
   },
   "outputs": [],
   "source": [
    "gdp_xlsx = pd.read_excel('gdp.xlsx', index_col='Date')"
   ]
  },
  {
   "cell_type": "code",
   "execution_count": 55,
   "metadata": {},
   "outputs": [
    {
     "data": {
      "text/html": [
       "<div>\n",
       "<style>\n",
       "    .dataframe thead tr:only-child th {\n",
       "        text-align: right;\n",
       "    }\n",
       "\n",
       "    .dataframe thead th {\n",
       "        text-align: left;\n",
       "    }\n",
       "\n",
       "    .dataframe tbody tr th {\n",
       "        vertical-align: top;\n",
       "    }\n",
       "</style>\n",
       "<table border=\"1\" class=\"dataframe\">\n",
       "  <thead>\n",
       "    <tr style=\"text-align: right;\">\n",
       "      <th></th>\n",
       "      <th>GDP</th>\n",
       "    </tr>\n",
       "    <tr>\n",
       "      <th>Date</th>\n",
       "      <th></th>\n",
       "    </tr>\n",
       "  </thead>\n",
       "  <tbody>\n",
       "    <tr>\n",
       "      <th>1947-01-01</th>\n",
       "      <td>243.1</td>\n",
       "    </tr>\n",
       "    <tr>\n",
       "      <th>1947-04-01</th>\n",
       "      <td>246.3</td>\n",
       "    </tr>\n",
       "    <tr>\n",
       "      <th>1947-07-01</th>\n",
       "      <td>250.1</td>\n",
       "    </tr>\n",
       "    <tr>\n",
       "      <th>1947-10-01</th>\n",
       "      <td>260.3</td>\n",
       "    </tr>\n",
       "    <tr>\n",
       "      <th>1948-01-01</th>\n",
       "      <td>266.2</td>\n",
       "    </tr>\n",
       "  </tbody>\n",
       "</table>\n",
       "</div>"
      ],
      "text/plain": [
       "              GDP\n",
       "Date             \n",
       "1947-01-01  243.1\n",
       "1947-04-01  246.3\n",
       "1947-07-01  250.1\n",
       "1947-10-01  260.3\n",
       "1948-01-01  266.2"
      ]
     },
     "execution_count": 55,
     "metadata": {},
     "output_type": "execute_result"
    }
   ],
   "source": [
    "gdp_xlsx.head()"
   ]
  }
 ],
 "metadata": {
  "kernelspec": {
   "display_name": "Python 3",
   "language": "python",
   "name": "python3"
  },
  "language_info": {
   "codemirror_mode": {
    "name": "ipython",
    "version": 3
   },
   "file_extension": ".py",
   "mimetype": "text/x-python",
   "name": "python",
   "nbconvert_exporter": "python",
   "pygments_lexer": "ipython3",
   "version": "3.6.4"
  }
 },
 "nbformat": 4,
 "nbformat_minor": 2
}
