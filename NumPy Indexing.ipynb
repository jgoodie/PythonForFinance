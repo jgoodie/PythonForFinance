{
 "cells": [
  {
   "cell_type": "code",
   "execution_count": 1,
   "metadata": {
    "collapsed": true
   },
   "outputs": [],
   "source": [
    "import numpy as np\n",
    "import pandas as pd\n",
    "import matplotlib.pyplot as plt\n",
    "%matplotlib inline"
   ]
  },
  {
   "cell_type": "code",
   "execution_count": 13,
   "metadata": {},
   "outputs": [
    {
     "data": {
      "text/plain": [
       "array([100, 100, 100, 100, 100,   5,   6,   7,   8,   9,  10])"
      ]
     },
     "execution_count": 13,
     "metadata": {},
     "output_type": "execute_result"
    }
   ],
   "source": [
    "arr = np.arange(0,11)\n",
    "arr[8]\n",
    "arr[2:5]\n",
    "arr[-2]\n",
    "arr[5:]\n",
    "arr[:5]\n",
    "# broadcasting\n",
    "arr[0:5] = 100\n",
    "arr"
   ]
  },
  {
   "cell_type": "code",
   "execution_count": 19,
   "metadata": {},
   "outputs": [
    {
     "data": {
      "text/plain": [
       "array([ 0,  1, 99, 99, 99, 99, 99, 99,  8,  9, 10])"
      ]
     },
     "execution_count": 19,
     "metadata": {},
     "output_type": "execute_result"
    }
   ],
   "source": [
    "# ar2 is just a pointer to a slice of arr... this could be dangerous if you only \n",
    "# want a section of the data and want to keep the original.\n",
    "# any modifications to ar2 will affect arr\n",
    "# this is about saving and managing memory when dealing with large datasets.\n",
    "# need to use .copy() to make a copy of the data\n",
    "arr = np.arange(0,11)\n",
    "ar2 = arr[2:8]\n",
    "ar2[:] = 99\n",
    "ar2\n",
    "arr"
   ]
  },
  {
   "cell_type": "code",
   "execution_count": 22,
   "metadata": {},
   "outputs": [
    {
     "name": "stdout",
     "output_type": "stream",
     "text": [
      "[ 0  1  2  3  4  5  6  7  8  9 10] [ 0  1  2  3  4  5  6  7  8  9 10]\n"
     ]
    }
   ],
   "source": [
    "arr = np.arange(0,11)\n",
    "arr_copy = arr.copy()\n",
    "print(arr, arr_copy)"
   ]
  },
  {
   "cell_type": "code",
   "execution_count": 34,
   "metadata": {},
   "outputs": [
    {
     "name": "stdout",
     "output_type": "stream",
     "text": [
      "[[ 2  4  6]\n",
      " [ 5 10 15]\n",
      " [10 20 30]]\n"
     ]
    },
    {
     "data": {
      "text/plain": [
       "15"
      ]
     },
     "execution_count": 34,
     "metadata": {},
     "output_type": "execute_result"
    }
   ],
   "source": [
    "# 2d arrays or a matrix\n",
    "# mat[row, column]\n",
    "# mat[row][column]\n",
    "mat = np.array([[2,4,6],[5,10,15],[10,20,30]])\n",
    "print(mat)\n",
    "mat[0]\n",
    "mat[2]\n",
    "mat[0][0]\n",
    "mat[1][1]\n",
    "mat[1][1:]\n",
    "mat[1,2]"
   ]
  },
  {
   "cell_type": "code",
   "execution_count": 42,
   "metadata": {},
   "outputs": [
    {
     "name": "stdout",
     "output_type": "stream",
     "text": [
      "[[ 2  4  6]\n",
      " [ 5 10 15]\n",
      " [10 20 30]]\n"
     ]
    },
    {
     "data": {
      "text/plain": [
       "array([[10, 15],\n",
       "       [20, 30]])"
      ]
     },
     "execution_count": 42,
     "metadata": {},
     "output_type": "execute_result"
    }
   ],
   "source": [
    "mat = np.array([[2,4,6],[5,10,15],[10,20,30]])\n",
    "print(mat)\n",
    "mat[2,1]\n",
    "mat[2,1:]\n",
    "mat[0:2,1:]\n",
    "mat[1:,1:]"
   ]
  },
  {
   "cell_type": "code",
   "execution_count": 48,
   "metadata": {},
   "outputs": [
    {
     "data": {
      "text/plain": [
       "array([1, 2, 3, 4, 5, 6, 7])"
      ]
     },
     "execution_count": 48,
     "metadata": {},
     "output_type": "execute_result"
    }
   ],
   "source": [
    "# Conditional Selection\n",
    "ar = np.arange(1,11)\n",
    "bool_ar = ar > 4\n",
    "ar[bool_ar]\n",
    "# easier\n",
    "ar[ar>4]\n",
    "ar[ar<=7]"
   ]
  }
 ],
 "metadata": {
  "kernelspec": {
   "display_name": "Python 3",
   "language": "python",
   "name": "python3"
  },
  "language_info": {
   "codemirror_mode": {
    "name": "ipython",
    "version": 3
   },
   "file_extension": ".py",
   "mimetype": "text/x-python",
   "name": "python",
   "nbconvert_exporter": "python",
   "pygments_lexer": "ipython3",
   "version": "3.6.1"
  }
 },
 "nbformat": 4,
 "nbformat_minor": 2
}
